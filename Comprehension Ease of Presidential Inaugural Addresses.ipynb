{
 "cells": [
  {
   "cell_type": "code",
   "execution_count": 24,
   "metadata": {
    "collapsed": true
   },
   "outputs": [],
   "source": [
    "import requests\n",
    "import re\n",
    "from textstat.textstat import textstat\n",
    "from bs4 import BeautifulSoup"
   ]
  },
  {
   "cell_type": "markdown",
   "metadata": {},
   "source": [
    "In this project, I measured the reading ease, or in this context \"comprehension ease,\" of the inaugural addresses of U.S. Presidents using the Flesch-Kincaid Readability Scale. News companies, educators, and data scientists use this measure to evaluate the accessibility of a text. So the data would be easy to interpret for someone unfamiliar with Flesch-Kincaid, I used the Flesch-Kincaid Grade Level measure, which corresponds to grade levels in the American schooling system. In general, a lower grade level is not a mark of shame but rather a sign that the text is accessible to the public, which is a good thing. A very low grade level, however, may point to a text that is overly simple."
   ]
  },
  {
   "cell_type": "markdown",
   "metadata": {},
   "source": [
    "I used the following site as a source for most of the speeches:\n",
    "\n",
    "http://avalon.law.yale.edu/subject_menus/inaug.asp\n",
    "\n",
    "It only goes up to 2009, President Obama's first inaugural address, so I knew I would have to find other sources for the 2013 and 2017 speeches.\n",
    "\n",
    "Meanwhile, I used `BeautifulSoup` and `requests` to figure out how to follow the appropriate links on the main page."
   ]
  },
  {
   "cell_type": "code",
   "execution_count": 25,
   "metadata": {
    "collapsed": false
   },
   "outputs": [
    {
     "data": {
      "text/plain": [
       "bs4.element.ResultSet"
      ]
     },
     "execution_count": 25,
     "metadata": {},
     "output_type": "execute_result"
    }
   ],
   "source": [
    "page = requests.get(\"http://avalon.law.yale.edu/subject_menus/inaug.asp\")\n",
    "soup = BeautifulSoup(page.content, 'html.parser')\n",
    "type(soup.find_all('a'))"
   ]
  },
  {
   "cell_type": "markdown",
   "metadata": {},
   "source": [
    "I didn't see a benefit to keeping the `ResultSet` object, so I read it into an array."
   ]
  },
  {
   "cell_type": "code",
   "execution_count": 26,
   "metadata": {
    "collapsed": false,
    "scrolled": true
   },
   "outputs": [
    {
     "data": {
      "text/plain": [
       "['<a href=\"../default.asp\">Avalon Home</a>',\n",
       " '<a href=\"../subject_menus/major.asp\">Document<br> Collections</br></a>',\n",
       " '<a href=\"../subject_menus/ancient.asp\">Ancient <br>4000bce - 399</br></a>',\n",
       " '<a href=\"../subject_menus/medieval.asp\">Medieval <br>400 - 1399</br></a>',\n",
       " '<a href=\"../subject_menus/15th.asp\">15<sup>th</sup> Century <br>1400 - 1499</br></a>',\n",
       " '<a href=\"../subject_menus/16th.asp\">16<sup>th</sup> Century <br>1500 - 1599</br></a>',\n",
       " '<a href=\"../subject_menus/17th.asp\">17<sup>th</sup> Century <br>1600 - 1699</br></a>',\n",
       " '<a href=\"../subject_menus/18th.asp\">18<sup>th</sup> Century <br>1700 - 1799</br></a>',\n",
       " '<a href=\"../subject_menus/19th.asp\">19<sup>th</sup> Century <br>1800 - 1899</br></a>',\n",
       " '<a href=\"../subject_menus/20th.asp\">20<sup>th</sup> Century <br>1900 - 1999</br></a>',\n",
       " '<a href=\"../subject_menus/21st.asp\">21<sup>st</sup> Century <br>2000 - </br></a>',\n",
       " '<a href=\"../18th_century/wash1.asp\">1789</a>',\n",
       " '<a href=\"../18th_century/wash2.asp\">1793</a>',\n",
       " '<a href=\"../18th_century/adams.asp\">1797</a>',\n",
       " '<a href=\"../19th_century/jefinau1.asp\">1801</a>',\n",
       " '<a href=\"../19th_century/jefinau2.asp\">1805</a>',\n",
       " '<a href=\"../19th_century/madison1.asp\">1809</a>',\n",
       " '<a href=\"../19th_century/madison2.asp\">1813</a>',\n",
       " '<a href=\"../19th_century/monroe1.asp\">1817</a>',\n",
       " '<a href=\"../19th_century/monroe2.asp\">1821</a>',\n",
       " '<a href=\"../19th_century/qadams.asp\">1825</a>',\n",
       " '<a href=\"../19th_century/jackson1.asp\">1829</a>',\n",
       " '<a href=\"../19th_century/jackson2.asp\">1833</a>',\n",
       " '<a href=\"../19th_century/vanburen.asp\">1837</a>',\n",
       " '<a href=\"../19th_century/harrison.asp\">1841</a>',\n",
       " '<a href=\"../19th_century/polk.asp\">1845</a>',\n",
       " '<a href=\"../19th_century/taylor.asp\">1849</a>',\n",
       " '<a href=\"../19th_century/pierce.asp\">1853</a>',\n",
       " '<a href=\"../19th_century/buchanan.asp\">1857</a>',\n",
       " '<a href=\"../19th_century/lincoln1.asp\">1861</a>',\n",
       " '<a href=\"../19th_century/lincoln2.asp\">1865</a>',\n",
       " '<a href=\"../19th_century/grant1.asp\">1869</a>',\n",
       " '<a href=\"../19th_century/grant2.asp\">1873</a>',\n",
       " '<a href=\"../19th_century/hayes.asp\">1877</a>',\n",
       " '<a href=\"../19th_century/garfield.asp\">1881</a>',\n",
       " '<a href=\"../19th_century/cleve1.asp\">1885</a>',\n",
       " '<a href=\"../19th_century/cleve2.asp\">1893</a>',\n",
       " '<a href=\"../19th_century/harris.asp\">1889</a>',\n",
       " '<a href=\"../19th_century/mckin1.asp\">1897</a>',\n",
       " '<a href=\"../19th_century/mckin2.asp\">1901</a>',\n",
       " '<a href=\"../20th_century/troos.asp\">1905</a>',\n",
       " '<a href=\"../20th_century/taft.asp\">1909</a>',\n",
       " '<a href=\"../20th_century/wilson1.asp\">1913</a>',\n",
       " '<a href=\"../20th_century/wilson2.asp\">1917</a>',\n",
       " '<a href=\"../20th_century/harding.asp\">1921</a>',\n",
       " '<a href=\"../20th_century/coolidge.asp\">1925</a>',\n",
       " '<a href=\"../20th_century/hoover.asp\">1929</a>',\n",
       " '<a href=\"../20th_century/froos1.asp\">1933</a>',\n",
       " '<a href=\"../20th_century/froos2.asp\">1937</a>',\n",
       " '<a href=\"../20th_century/froos3.asp\">1941</a>',\n",
       " '<a href=\"../20th_century/froos4.asp\">1945</a>',\n",
       " '<a href=\"../20th_century/truman.asp\">1949</a>',\n",
       " '<a href=\"../20th_century/eisen1.asp\">1953</a>',\n",
       " '<a href=\"../20th_century/eisen2.asp\">1957</a>',\n",
       " '<a href=\"../20th_century/kennedy.asp\">1961</a>',\n",
       " '<a href=\"../20th_century/johnson.asp\">1965</a>',\n",
       " '<a href=\"../20th_century/nixon1.asp\">1969</a>',\n",
       " '<a href=\"../20th_century/nixon2.asp\">1973</a>',\n",
       " '<a href=\"../20th_century/carter.asp\">1977</a>',\n",
       " '<a href=\"../20th_century/reagan1.asp\">1981</a>',\n",
       " '<a href=\"../20th_century/reagan2.asp\">1985</a>',\n",
       " '<a href=\"../20th_century/bush.asp\">1989</a>',\n",
       " '<a href=\"../20th_century/clinton1.asp\">1993</a>',\n",
       " '<a href=\"../20th_century/clinton2.asp\">1997</a>',\n",
       " '<a href=\"../21st_century/gbush1.asp\">2001</a>',\n",
       " '<a href=\"../21st_century/gbush2.asp\">2005</a>',\n",
       " '<a href=\"../21st_century/obama.asp\">2009</a>',\n",
       " '<a href=\"../subject_menus/major.asp\">Document Collections</a>',\n",
       " '<a href=\"../default.asp\">Avalon Home</a>',\n",
       " '<a href=\"../subject_menus/major.asp\">Document<br> Collections</br></a>',\n",
       " '<a href=\"../subject_menus/ancient.asp\">Ancient <br>4000bce - 399</br></a>',\n",
       " '<a href=\"../subject_menus/medieval.asp\">Medieval <br>400 - 1399</br></a>',\n",
       " '<a href=\"../subject_menus/15th.asp\">15<sup>th</sup> Century <br>1400 - 1499</br></a>',\n",
       " '<a href=\"../subject_menus/16th.asp\">16<sup>th</sup> Century <br>1500 - 1599</br></a>',\n",
       " '<a href=\"../subject_menus/17th.asp\">17<sup>th</sup> Century <br>1600 - 1699</br></a>',\n",
       " '<a href=\"../subject_menus/18th.asp\">18<sup>th</sup> Century <br>1700 - 1799</br></a>',\n",
       " '<a href=\"../subject_menus/19th.asp\">19<sup>th</sup> Century <br>1800 - 1899</br></a>',\n",
       " '<a href=\"../subject_menus/20th.asp\">20<sup>th</sup> Century <br>1900 - 1999</br></a>',\n",
       " '<a href=\"../subject_menus/21st.asp\">21<sup>st</sup> Century <br>2000 - </br></a>',\n",
       " '<a href=\"about/purpose.asp\">Avalon Statement of Purpose</a>',\n",
       " '<a href=\"http://www.law.yale.edu/library/3312.asp\">Contact Us</a>',\n",
       " '<a href=\"http://library.law.yale.edu\" target=\"_blank\">Yale Law Library</a>',\n",
       " '<a href=\"http://www.library.yale.edu/\" target=\"_blank\">University Library</a>',\n",
       " '<a href=\"http://www.law.yale.edu\" target=\"_blank\">Yale Law School</a>',\n",
       " '<a href=\"http://morris.law.yale.edu/\">Search Morris</a>',\n",
       " '<a href=\"http://orbis.library.yale.edu/\" target=\"_blank\">Search Orbis</a>']"
      ]
     },
     "execution_count": 26,
     "metadata": {},
     "output_type": "execute_result"
    }
   ],
   "source": [
    "link_obj = soup.find_all('a')\n",
    "link_html_all = []\n",
    "for link in link_obj:\n",
    "    link_html_all.append(str(link))\n",
    "link_html_all"
   ]
  },
  {
   "cell_type": "markdown",
   "metadata": {},
   "source": [
    "Here, I saw that I had a lot more links than I wanted. I noticed that the text of the links that I wanted were all in the format of years, four-digit sequences. I used a regex to get only those links.\n",
    "\n",
    "I realized later on that using the year of the speech as a key would be a good way to keep the data in order. In redoing the project for this notebook, this seems like the natural place to start doing that."
   ]
  },
  {
   "cell_type": "code",
   "execution_count": 27,
   "metadata": {
    "collapsed": false,
    "scrolled": true
   },
   "outputs": [
    {
     "data": {
      "text/plain": [
       "[{'html': '<a href=\"../18th_century/wash1.asp\">1789</a>', 'id': '1789'},\n",
       " {'html': '<a href=\"../18th_century/wash2.asp\">1793</a>', 'id': '1793'},\n",
       " {'html': '<a href=\"../18th_century/adams.asp\">1797</a>', 'id': '1797'},\n",
       " {'html': '<a href=\"../19th_century/jefinau1.asp\">1801</a>', 'id': '1801'},\n",
       " {'html': '<a href=\"../19th_century/jefinau2.asp\">1805</a>', 'id': '1805'},\n",
       " {'html': '<a href=\"../19th_century/madison1.asp\">1809</a>', 'id': '1809'},\n",
       " {'html': '<a href=\"../19th_century/madison2.asp\">1813</a>', 'id': '1813'},\n",
       " {'html': '<a href=\"../19th_century/monroe1.asp\">1817</a>', 'id': '1817'},\n",
       " {'html': '<a href=\"../19th_century/monroe2.asp\">1821</a>', 'id': '1821'},\n",
       " {'html': '<a href=\"../19th_century/qadams.asp\">1825</a>', 'id': '1825'},\n",
       " {'html': '<a href=\"../19th_century/jackson1.asp\">1829</a>', 'id': '1829'},\n",
       " {'html': '<a href=\"../19th_century/jackson2.asp\">1833</a>', 'id': '1833'},\n",
       " {'html': '<a href=\"../19th_century/vanburen.asp\">1837</a>', 'id': '1837'},\n",
       " {'html': '<a href=\"../19th_century/harrison.asp\">1841</a>', 'id': '1841'},\n",
       " {'html': '<a href=\"../19th_century/polk.asp\">1845</a>', 'id': '1845'},\n",
       " {'html': '<a href=\"../19th_century/taylor.asp\">1849</a>', 'id': '1849'},\n",
       " {'html': '<a href=\"../19th_century/pierce.asp\">1853</a>', 'id': '1853'},\n",
       " {'html': '<a href=\"../19th_century/buchanan.asp\">1857</a>', 'id': '1857'},\n",
       " {'html': '<a href=\"../19th_century/lincoln1.asp\">1861</a>', 'id': '1861'},\n",
       " {'html': '<a href=\"../19th_century/lincoln2.asp\">1865</a>', 'id': '1865'},\n",
       " {'html': '<a href=\"../19th_century/grant1.asp\">1869</a>', 'id': '1869'},\n",
       " {'html': '<a href=\"../19th_century/grant2.asp\">1873</a>', 'id': '1873'},\n",
       " {'html': '<a href=\"../19th_century/hayes.asp\">1877</a>', 'id': '1877'},\n",
       " {'html': '<a href=\"../19th_century/garfield.asp\">1881</a>', 'id': '1881'},\n",
       " {'html': '<a href=\"../19th_century/cleve1.asp\">1885</a>', 'id': '1885'},\n",
       " {'html': '<a href=\"../19th_century/cleve2.asp\">1893</a>', 'id': '1893'},\n",
       " {'html': '<a href=\"../19th_century/harris.asp\">1889</a>', 'id': '1889'},\n",
       " {'html': '<a href=\"../19th_century/mckin1.asp\">1897</a>', 'id': '1897'},\n",
       " {'html': '<a href=\"../19th_century/mckin2.asp\">1901</a>', 'id': '1901'},\n",
       " {'html': '<a href=\"../20th_century/troos.asp\">1905</a>', 'id': '1905'},\n",
       " {'html': '<a href=\"../20th_century/taft.asp\">1909</a>', 'id': '1909'},\n",
       " {'html': '<a href=\"../20th_century/wilson1.asp\">1913</a>', 'id': '1913'},\n",
       " {'html': '<a href=\"../20th_century/wilson2.asp\">1917</a>', 'id': '1917'},\n",
       " {'html': '<a href=\"../20th_century/harding.asp\">1921</a>', 'id': '1921'},\n",
       " {'html': '<a href=\"../20th_century/coolidge.asp\">1925</a>', 'id': '1925'},\n",
       " {'html': '<a href=\"../20th_century/hoover.asp\">1929</a>', 'id': '1929'},\n",
       " {'html': '<a href=\"../20th_century/froos1.asp\">1933</a>', 'id': '1933'},\n",
       " {'html': '<a href=\"../20th_century/froos2.asp\">1937</a>', 'id': '1937'},\n",
       " {'html': '<a href=\"../20th_century/froos3.asp\">1941</a>', 'id': '1941'},\n",
       " {'html': '<a href=\"../20th_century/froos4.asp\">1945</a>', 'id': '1945'},\n",
       " {'html': '<a href=\"../20th_century/truman.asp\">1949</a>', 'id': '1949'},\n",
       " {'html': '<a href=\"../20th_century/eisen1.asp\">1953</a>', 'id': '1953'},\n",
       " {'html': '<a href=\"../20th_century/eisen2.asp\">1957</a>', 'id': '1957'},\n",
       " {'html': '<a href=\"../20th_century/kennedy.asp\">1961</a>', 'id': '1961'},\n",
       " {'html': '<a href=\"../20th_century/johnson.asp\">1965</a>', 'id': '1965'},\n",
       " {'html': '<a href=\"../20th_century/nixon1.asp\">1969</a>', 'id': '1969'},\n",
       " {'html': '<a href=\"../20th_century/nixon2.asp\">1973</a>', 'id': '1973'},\n",
       " {'html': '<a href=\"../20th_century/carter.asp\">1977</a>', 'id': '1977'},\n",
       " {'html': '<a href=\"../20th_century/reagan1.asp\">1981</a>', 'id': '1981'},\n",
       " {'html': '<a href=\"../20th_century/reagan2.asp\">1985</a>', 'id': '1985'},\n",
       " {'html': '<a href=\"../20th_century/bush.asp\">1989</a>', 'id': '1989'},\n",
       " {'html': '<a href=\"../20th_century/clinton1.asp\">1993</a>', 'id': '1993'},\n",
       " {'html': '<a href=\"../20th_century/clinton2.asp\">1997</a>', 'id': '1997'},\n",
       " {'html': '<a href=\"../21st_century/gbush1.asp\">2001</a>', 'id': '2001'},\n",
       " {'html': '<a href=\"../21st_century/gbush2.asp\">2005</a>', 'id': '2005'},\n",
       " {'html': '<a href=\"../21st_century/obama.asp\">2009</a>', 'id': '2009'}]"
      ]
     },
     "execution_count": 27,
     "metadata": {},
     "output_type": "execute_result"
    }
   ],
   "source": [
    "speech_link_html = []\n",
    "num_re = re.compile(\"(?<=>)[0-9]{4}(?=<)\")\n",
    "for item in link_html_all:\n",
    "    if num_re.findall(item):\n",
    "        speech_link_html.append({'id': num_re.findall(item)[0], 'html': item})\n",
    "speech_link_html"
   ]
  },
  {
   "cell_type": "markdown",
   "metadata": {},
   "source": [
    "I used another regex to isolate the url path from the HTML it was packaged in."
   ]
  },
  {
   "cell_type": "code",
   "execution_count": 28,
   "metadata": {
    "collapsed": false
   },
   "outputs": [
    {
     "data": {
      "text/plain": [
       "[{'id': '1789', 'link': '/18th_century/wash1.asp'},\n",
       " {'id': '1793', 'link': '/18th_century/wash2.asp'},\n",
       " {'id': '1797', 'link': '/18th_century/adams.asp'},\n",
       " {'id': '1801', 'link': '/19th_century/jefinau1.asp'},\n",
       " {'id': '1805', 'link': '/19th_century/jefinau2.asp'},\n",
       " {'id': '1809', 'link': '/19th_century/madison1.asp'},\n",
       " {'id': '1813', 'link': '/19th_century/madison2.asp'},\n",
       " {'id': '1817', 'link': '/19th_century/monroe1.asp'},\n",
       " {'id': '1821', 'link': '/19th_century/monroe2.asp'},\n",
       " {'id': '1825', 'link': '/19th_century/qadams.asp'},\n",
       " {'id': '1829', 'link': '/19th_century/jackson1.asp'},\n",
       " {'id': '1833', 'link': '/19th_century/jackson2.asp'},\n",
       " {'id': '1837', 'link': '/19th_century/vanburen.asp'},\n",
       " {'id': '1841', 'link': '/19th_century/harrison.asp'},\n",
       " {'id': '1845', 'link': '/19th_century/polk.asp'},\n",
       " {'id': '1849', 'link': '/19th_century/taylor.asp'},\n",
       " {'id': '1853', 'link': '/19th_century/pierce.asp'},\n",
       " {'id': '1857', 'link': '/19th_century/buchanan.asp'},\n",
       " {'id': '1861', 'link': '/19th_century/lincoln1.asp'},\n",
       " {'id': '1865', 'link': '/19th_century/lincoln2.asp'},\n",
       " {'id': '1869', 'link': '/19th_century/grant1.asp'},\n",
       " {'id': '1873', 'link': '/19th_century/grant2.asp'},\n",
       " {'id': '1877', 'link': '/19th_century/hayes.asp'},\n",
       " {'id': '1881', 'link': '/19th_century/garfield.asp'},\n",
       " {'id': '1885', 'link': '/19th_century/cleve1.asp'},\n",
       " {'id': '1893', 'link': '/19th_century/cleve2.asp'},\n",
       " {'id': '1889', 'link': '/19th_century/harris.asp'},\n",
       " {'id': '1897', 'link': '/19th_century/mckin1.asp'},\n",
       " {'id': '1901', 'link': '/19th_century/mckin2.asp'},\n",
       " {'id': '1905', 'link': '/20th_century/troos.asp'},\n",
       " {'id': '1909', 'link': '/20th_century/taft.asp'},\n",
       " {'id': '1913', 'link': '/20th_century/wilson1.asp'},\n",
       " {'id': '1917', 'link': '/20th_century/wilson2.asp'},\n",
       " {'id': '1921', 'link': '/20th_century/harding.asp'},\n",
       " {'id': '1925', 'link': '/20th_century/coolidge.asp'},\n",
       " {'id': '1929', 'link': '/20th_century/hoover.asp'},\n",
       " {'id': '1933', 'link': '/20th_century/froos1.asp'},\n",
       " {'id': '1937', 'link': '/20th_century/froos2.asp'},\n",
       " {'id': '1941', 'link': '/20th_century/froos3.asp'},\n",
       " {'id': '1945', 'link': '/20th_century/froos4.asp'},\n",
       " {'id': '1949', 'link': '/20th_century/truman.asp'},\n",
       " {'id': '1953', 'link': '/20th_century/eisen1.asp'},\n",
       " {'id': '1957', 'link': '/20th_century/eisen2.asp'},\n",
       " {'id': '1961', 'link': '/20th_century/kennedy.asp'},\n",
       " {'id': '1965', 'link': '/20th_century/johnson.asp'},\n",
       " {'id': '1969', 'link': '/20th_century/nixon1.asp'},\n",
       " {'id': '1973', 'link': '/20th_century/nixon2.asp'},\n",
       " {'id': '1977', 'link': '/20th_century/carter.asp'},\n",
       " {'id': '1981', 'link': '/20th_century/reagan1.asp'},\n",
       " {'id': '1985', 'link': '/20th_century/reagan2.asp'},\n",
       " {'id': '1989', 'link': '/20th_century/bush.asp'},\n",
       " {'id': '1993', 'link': '/20th_century/clinton1.asp'},\n",
       " {'id': '1997', 'link': '/20th_century/clinton2.asp'},\n",
       " {'id': '2001', 'link': '/21st_century/gbush1.asp'},\n",
       " {'id': '2005', 'link': '/21st_century/gbush2.asp'},\n",
       " {'id': '2009', 'link': '/21st_century/obama.asp'}]"
      ]
     },
     "execution_count": 28,
     "metadata": {},
     "output_type": "execute_result"
    }
   ],
   "source": [
    "speech_links = []\n",
    "link_re = re.compile(\"(?<=\\.\\.).*\\.asp\")\n",
    "for item in speech_link_html:\n",
    "    speech_links.append({'id': item['id'], 'link': link_re.findall(item['html'])[0]})\n",
    "speech_links"
   ]
  },
  {
   "cell_type": "markdown",
   "metadata": {},
   "source": [
    "When I tried to get the text from these pages, I realized that some of them were dead."
   ]
  },
  {
   "cell_type": "code",
   "execution_count": 29,
   "metadata": {
    "collapsed": false
   },
   "outputs": [
    {
     "name": "stdout",
     "output_type": "stream",
     "text": [
      "{'link': '/20th_century/coolidge.asp', 'id': '1925'}\n",
      "{'link': '/19th_century/garfield.asp', 'id': '1881'}\n",
      "{'link': '/19th_century/buchanan.asp', 'id': '1857'}\n",
      "{'link': '/19th_century/vanburen.asp', 'id': '1837'}\n"
     ]
    },
    {
     "data": {
      "text/plain": [
       "[{'id': '1789', 'link': '/18th_century/wash1.asp'},\n",
       " {'id': '1793', 'link': '/18th_century/wash2.asp'},\n",
       " {'id': '1797', 'link': '/18th_century/adams.asp'},\n",
       " {'id': '1801', 'link': '/19th_century/jefinau1.asp'},\n",
       " {'id': '1805', 'link': '/19th_century/jefinau2.asp'},\n",
       " {'id': '1809', 'link': '/19th_century/madison1.asp'},\n",
       " {'id': '1813', 'link': '/19th_century/madison2.asp'},\n",
       " {'id': '1817', 'link': '/19th_century/monroe1.asp'},\n",
       " {'id': '1821', 'link': '/19th_century/monroe2.asp'},\n",
       " {'id': '1825', 'link': '/19th_century/qadams.asp'},\n",
       " {'id': '1829', 'link': '/19th_century/jackson1.asp'},\n",
       " {'id': '1833', 'link': '/19th_century/jackson2.asp'},\n",
       " {'id': '1841', 'link': '/19th_century/harrison.asp'},\n",
       " {'id': '1845', 'link': '/19th_century/polk.asp'},\n",
       " {'id': '1849', 'link': '/19th_century/taylor.asp'},\n",
       " {'id': '1853', 'link': '/19th_century/pierce.asp'},\n",
       " {'id': '1861', 'link': '/19th_century/lincoln1.asp'},\n",
       " {'id': '1865', 'link': '/19th_century/lincoln2.asp'},\n",
       " {'id': '1869', 'link': '/19th_century/grant1.asp'},\n",
       " {'id': '1873', 'link': '/19th_century/grant2.asp'},\n",
       " {'id': '1877', 'link': '/19th_century/hayes.asp'},\n",
       " {'id': '1885', 'link': '/19th_century/cleve1.asp'},\n",
       " {'id': '1893', 'link': '/19th_century/cleve2.asp'},\n",
       " {'id': '1889', 'link': '/19th_century/harris.asp'},\n",
       " {'id': '1897', 'link': '/19th_century/mckin1.asp'},\n",
       " {'id': '1901', 'link': '/19th_century/mckin2.asp'},\n",
       " {'id': '1905', 'link': '/20th_century/troos.asp'},\n",
       " {'id': '1909', 'link': '/20th_century/taft.asp'},\n",
       " {'id': '1913', 'link': '/20th_century/wilson1.asp'},\n",
       " {'id': '1917', 'link': '/20th_century/wilson2.asp'},\n",
       " {'id': '1921', 'link': '/20th_century/harding.asp'},\n",
       " {'id': '1929', 'link': '/20th_century/hoover.asp'},\n",
       " {'id': '1933', 'link': '/20th_century/froos1.asp'},\n",
       " {'id': '1937', 'link': '/20th_century/froos2.asp'},\n",
       " {'id': '1941', 'link': '/20th_century/froos3.asp'},\n",
       " {'id': '1945', 'link': '/20th_century/froos4.asp'},\n",
       " {'id': '1949', 'link': '/20th_century/truman.asp'},\n",
       " {'id': '1953', 'link': '/20th_century/eisen1.asp'},\n",
       " {'id': '1957', 'link': '/20th_century/eisen2.asp'},\n",
       " {'id': '1961', 'link': '/20th_century/kennedy.asp'},\n",
       " {'id': '1965', 'link': '/20th_century/johnson.asp'},\n",
       " {'id': '1969', 'link': '/20th_century/nixon1.asp'},\n",
       " {'id': '1973', 'link': '/20th_century/nixon2.asp'},\n",
       " {'id': '1977', 'link': '/20th_century/carter.asp'},\n",
       " {'id': '1981', 'link': '/20th_century/reagan1.asp'},\n",
       " {'id': '1985', 'link': '/20th_century/reagan2.asp'},\n",
       " {'id': '1989', 'link': '/20th_century/bush.asp'},\n",
       " {'id': '1993', 'link': '/20th_century/clinton1.asp'},\n",
       " {'id': '1997', 'link': '/20th_century/clinton2.asp'},\n",
       " {'id': '2001', 'link': '/21st_century/gbush1.asp'},\n",
       " {'id': '2005', 'link': '/21st_century/gbush2.asp'},\n",
       " {'id': '2009', 'link': '/21st_century/obama.asp'}]"
      ]
     },
     "execution_count": 29,
     "metadata": {},
     "output_type": "execute_result"
    }
   ],
   "source": [
    "for item in reversed(speech_links):\n",
    "    url = \"http://avalon.law.yale.edu/\" + item['link']\n",
    "    page = requests.get(url)\n",
    "    if (page.status_code == 404):\n",
    "        speech_links.remove(item)\n",
    "        print(item)\n",
    "speech_links"
   ]
  },
  {
   "cell_type": "markdown",
   "metadata": {},
   "source": [
    "These were the 1925, 1881, 1857, and 1837 speeches. I removed them from the array and added them to the list of speeches I would have to get from another source."
   ]
  },
  {
   "cell_type": "markdown",
   "metadata": {},
   "source": [
    "Now that I had the pages, I needed to get the text that I wanted from each page. First, I looked at the HTML of the first page to see what I was working with."
   ]
  },
  {
   "cell_type": "code",
   "execution_count": 30,
   "metadata": {
    "collapsed": false
   },
   "outputs": [
    {
     "data": {
      "text/plain": [
       "b'<HTML>\\r\\n<HEAD>\\r\\n<TITLE>The Avalon Project : Second Inaugural Address of George Washington</TITLE>\\r\\n<link rel=\"stylesheet\" type=\"text/css\"  href=\"../css/site.css\">\\r\\n\\r\\n\\r\\n\\r\\n\\r\\n\\r\\n\\r\\n\\r\\n<META NAME=\"DC.Title\" CONTENT=\"Inaugural Addresses of the Presidents of the United States : from George Washington 1789 to George Bush 1989\">\\r\\n<META NAME=\"DC.Title.Alternative\" CONTENT=\"Senate document (United States. Congress. Senate); 101-10\">\\r\\n<META NAME=\"DC.Creator.CorporateName\" CONTENT=\"United States. Congress. Joint Congressional Committee on Inaugural Ceremonies\">\\r\\n<META NAME=\"DC.Title.Alternate\" CONTENT=\"The Papers of the Presidents of the United States\">\\r\\n<META NAME=\"DC.Title.Alternate\" CONTENT=\"The Inaugural Addresses of the Presidents of the United States\">\\r\\n<META NAME=\"DC.Creator.PersonalName\" CONTENT=\"\">\\r\\n<META NAME=\"DC.Creator.CoporateName\" CONTENT=\"\">\\r\\n<META NAME=\"DC.Subject\" CONTENT=\"Law\">\\r\\n<META NAME=\"DC.Subject\" CONTENT=\"History\">\\r\\n<META NAME=\"DC.Subject\" CONTENT=\"Diplomacy\">\\r\\n<META NAME=\"DC.Subject\" CONTENT=\"Presidential Papers\">\\r\\n<META NAME=\"DC.Subject\" CONTENT=\"(SCHEME=LCSH) \">\\r\\n<META NAME=\"DC.Subject\" CONTENT=\"(SCHEME=LCSH) Presidents--United States--Inaugural addresses\">\\r\\n<META NAME=\"DC.Subject\" CONTENT=\"(SCHEME=LCCS) J81 .C85 1989\">\\r\\n<META NAME=\"DC.Description\" CONTENT=\"\">\\r\\n<META NAME=\"DC.Publisher\" CONTENT=\"Washington, D.C. : U.S. G.P.O. : for sale by the Supt. of Docs., U.S. G.P.O., 1989\">\\r\\n<META NAME=\"DC.Type\" CONTENT=\"Text\">\\r\\n<META NAME=\"DC.Format\" CONTENT=\"(SCHEME=IMT) text/html\">\\r\\n<META NAME=\"DC.Identifier\" CONTENT=\"http://www.yale.edu/lawweb/avalon/presiden/inaug/\">\\r\\n<META NAME=\"DC.Language\" CONTENT=\"(SCHEME=ISO639-1) en\">\\r\\n<META NAME=\"DC.Rights\" CONTENT=\"Copyright 1999 The Avalon Project\">\\r\\n</HEAD>\\r\\n<body><div class=\"HeaderContainer\">\\r\\n\\r\\n   <ul class=\"HeaderTopTools\">\\r\\n     \\r\\n     <li class=\"Search\">\\r\\n<table cellpadding=\"0\" cellspacing=\"0\" border=\"0\">\\r\\n          <form name=\"form\" id=\"form\" method=\"get\" action=\"http://www.google.com/u/yaleu\" target=\"_blank\">\\r\\n            <input type=\"hidden\" name=\"domains\" value=\"yale.edu\">\\r\\n            <input type=\"hidden\" name=\"sitesearch\" value=\"avalon.law.yale.edu/\">\\r\\n             <tr>\\r\\n                <td><!--<input onblur=\"if (this.value==\\'\\'){this.value=\\'Search Avalon\\'}\" onfocus=\"if (this.value==\\'Search Avalon\\'){this.value=\\'\\'}\" type=\"text\" name=\"q\" value=\"Search Avalon\" alt=\"Search Avalon\" class=\"SiteSearchBox\" />\\r\\n\\t\\t\\t\\t--></td>\\r\\n\\r\\n                <!--<td><a href=\"javascript:this.form.submit();\"><img src=\"http://www.law.yale.edu/library/searchGo.gif\" alt=\"Begin Search\" /></a></td>-->\\r\\n                <td><!--<input style=\"margin-left:5px;\" type=\"image\" class=\"go\" alt=\"Submit Search\" src=\"http://www.law.yale.edu/library/searchGo.gif\" />\\r\\n\\t\\t\\t\\t--></td>\\r\\n              </tr>\\r\\n          </form>\\r\\n</table>\\r\\n     </li>\\r\\n   </ul>\\r\\n<img src=\"../images/avalon_logo2.gif\" alt=\"Logo\" /></a>\\r\\n</div><div class=\"text-properties\"><div align=\"center\">\\r\\n<table class=\"site-menu\" border=1 cellpadding=5>\\r\\n<tr>\\r\\n<td><a  href=\"../default.asp\">Avalon Home</a></td>\\r\\n<td><a  href=\"../subject_menus/major.asp\">Document<br> Collections</a></td>\\r\\n<td><a  href=\"../subject_menus/ancient.asp\">Ancient <br>4000bce - 399</a></td>\\r\\n<td><a  href=\"../subject_menus/medieval.asp\">Medieval <br>400 - 1399</a></td>\\r\\n<td><a href=\"../subject_menus/15th.asp\">15<sup>th</sup> Century <br>1400 - 1499</a></td>\\r\\n<td><a href=\"../subject_menus/16th.asp\">16<sup>th</sup> Century <br>1500 - 1599</a></td>\\r\\n<td><a href=\"../subject_menus/17th.asp\">17<sup>th</sup> Century <br>1600 - 1699</a></td>\\r\\n<td><a href=\"../subject_menus/18th.asp\">18<sup>th</sup> Century <br>1700 - 1799</a></td>\\r\\n<td><a href=\"../subject_menus/19th.asp\">19<sup>th</sup> Century <br>1800 - 1899</a></td>\\r\\n<td><a href=\"../subject_menus/20th.asp\">20<sup>th</sup> Century <br>1900 - 1999</a></td>\\r\\n<td><a href=\"../subject_menus/21st.asp\">21<sup>st</sup> Century <br>2000 - </a></td>\\r\\n</tr>\\r\\n</table>\\r\\n</div>\\r\\n<div class=\"document-title\">\\r\\n\\r\\n\\r\\nSecond Inaugural Address of George Washington</div>\\r\\n<BR>\\r\\n\\r\\n   <H5 ALIGN=\"center\">THE CITY OF PHILADELPHIA</H5>\\r\\n\\r\\n   <H5 ALIGN=\"center\">MONDAY, MARCH 4, 1793</H5>\\r\\n    \\r\\n<P>Fellow Citizens: </P>\\r\\n\\r\\n<P>I am again called upon by the voice of my country to execute the functions of its Chief Magistrate. When the occasion proper for it shall arrive, I shall endeavor to express the high sense I entertain of this distinguished honor, and of the confidence which has been reposed in me by the people of united America. </P> \\r\\n\\r\\n <P>Previous to the execution of any official act of the President the <a href=\"../18th_century/usconst.asp\">Constitution</A> requires an <a href=\"../18th_century/art2.asp#oath\">oath of office</A>. This oath I am now about to take, and in your presence: That if it shall be found during my administration of the Government I have in any instance violated willingly or knowingly the injunctions thereof, I may (besides incurring constitutional punishment) be subject to the upbraidings of all who are now witnesses of the present solemn ceremony. </P> \\r\\n<BR>\\r\\n<DIV ALIGN=\"center\"><TABLE BORDER=1 CELLPADDING=5>\\r\\n<TR><TD><B><a href=\"../subject_menus/inaug.asp\">Inaugural Speeches Page</A></B></TD>\\r\\n<TD ALIGN=\"center\"><B><A HREF=\"../subject_menus/washpap.asp\">George Washington Papers</A></B></TD>\\r\\n\\r\\n</TABLE></DIV>\\r\\n\\r\\n\\r\\n\\r\\n\\r\\n\\r\\n\\r\\n</DIV>\\r\\n\\r\\n<div align=\"center\">\\r\\n<table class=\"site-menu\" border=1 cellpadding=5>\\r\\n<tr>\\r\\n<td><a  href=\"../default.asp\">Avalon Home</a></td>\\r\\n<td><a  href=\"../subject_menus/major.asp\">Document<br> Collections</a></td>\\r\\n<td><a  href=\"../subject_menus/ancient.asp\">Ancient <br>4000bce - 399</a></td>\\r\\n<td><a  href=\"../subject_menus/medieval.asp\">Medieval <br>400 - 1399</a></td>\\r\\n<td><a href=\"../subject_menus/15th.asp\">15<sup>th</sup> Century <br>1400 - 1499</a></td>\\r\\n<td><a href=\"../subject_menus/16th.asp\">16<sup>th</sup> Century <br>1500 - 1599</a></td>\\r\\n<td><a href=\"../subject_menus/17th.asp\">17<sup>th</sup> Century <br>1600 - 1699</a></td>\\r\\n<td><a href=\"../subject_menus/18th.asp\">18<sup>th</sup> Century <br>1700 - 1799</a></td>\\r\\n<td><a href=\"../subject_menus/19th.asp\">19<sup>th</sup> Century <br>1800 - 1899</a></td>\\r\\n<td><a href=\"../subject_menus/20th.asp\">20<sup>th</sup> Century <br>1900 - 1999</a></td>\\r\\n<td><a href=\"../subject_menus/21st.asp\">21<sup>st</sup> Century <br>2000 - </a></td>\\r\\n</tr>\\r\\n</table>\\r\\n</div>\\r\\n</div><div class=\"FooterContainer\" id=\"ContainerDefaults\">\\r\\n<div class=\"Copyright\">&copy; 2008 Lillian Goldman Law Library</div>\\r\\n<div class=\"ContactInfo\">127 Wall Street, New Haven, CT 06511.</div>\\r\\n<ul class=\"NavBottom\">\\r\\n<li><a href=\"about/purpose.asp\">Avalon Statement of Purpose</a></li><li><a href=\"http://www.law.yale.edu/library/3312.asp\">Contact Us</a></li><li><a href=\"http://library.law.yale.edu\" target=\"_blank\">Yale Law Library</a></li><li><a href=\"http://www.library.yale.edu/\" target=\"_blank\">University Library</a></li><li><a href=\"http://www.law.yale.edu\" target=\"_blank\">Yale Law School</a></li><li><a href=\"http://morris.law.yale.edu/\">Search Morris</a></li><li><a href=\"http://orbis.library.yale.edu/\" target=\"_blank\">Search Orbis</a></li>\\r\\n</ul>\\r\\n</div>\\r\\n</body></html>\\r\\n'"
      ]
     },
     "execution_count": 30,
     "metadata": {},
     "output_type": "execute_result"
    }
   ],
   "source": [
    "my_url = \"http://avalon.law.yale.edu/18th_century/wash2.asp\"\n",
    "content = requests.get(my_url).content\n",
    "content"
   ]
  },
  {
   "cell_type": "markdown",
   "metadata": {},
   "source": [
    "So, first off, all those tags needed to go. I used a regex to get just the text. In retrospect, there was probably a way to do that with the `requests` object, but anyway this is what I did. It was convenient to have the text broken up into a list of lines."
   ]
  },
  {
   "cell_type": "code",
   "execution_count": 31,
   "metadata": {
    "collapsed": false
   },
   "outputs": [
    {
     "data": {
      "text/plain": [
       "['The Avalon Project : Second Inaugural Address of George Washington',\n",
       " 'Avalon Home',\n",
       " 'Document',\n",
       " 'Collections',\n",
       " 'Ancient',\n",
       " '4000bce - 399',\n",
       " 'Medieval',\n",
       " '400 - 1399',\n",
       " '15',\n",
       " 'th',\n",
       " 'Century',\n",
       " '1400 - 1499',\n",
       " '16',\n",
       " 'th',\n",
       " 'Century',\n",
       " '1500 - 1599',\n",
       " '17',\n",
       " 'th',\n",
       " 'Century',\n",
       " '1600 - 1699',\n",
       " '18',\n",
       " 'th',\n",
       " 'Century',\n",
       " '1700 - 1799',\n",
       " '19',\n",
       " 'th',\n",
       " 'Century',\n",
       " '1800 - 1899',\n",
       " '20',\n",
       " 'th',\n",
       " 'Century',\n",
       " '1900 - 1999',\n",
       " '21',\n",
       " 'st',\n",
       " 'Century',\n",
       " '2000 -',\n",
       " 'THE CITY OF PHILADELPHIA',\n",
       " 'MONDAY, MARCH 4, 1793',\n",
       " 'Fellow Citizens:',\n",
       " 'I am again called upon by the voice of my country to execute the functions of its Chief Magistrate. When the occasion proper for it shall arrive, I shall endeavor to express the high sense I entertain of this distinguished honor, and of the confidence which has been reposed in me by the people of united America.',\n",
       " 'Previous to the execution of any official act of the President the',\n",
       " 'Constitution',\n",
       " 'requires an',\n",
       " 'oath of office',\n",
       " '. This oath I am now about to take, and in your presence: That if it shall be found during my administration of the Government I have in any instance violated willingly or knowingly the injunctions thereof, I may (besides incurring constitutional punishment) be subject to the upbraidings of all who are now witnesses of the present solemn ceremony.',\n",
       " 'Inaugural Speeches Page',\n",
       " 'George Washington Papers',\n",
       " 'Avalon Home',\n",
       " 'Document',\n",
       " 'Collections',\n",
       " 'Ancient',\n",
       " '4000bce - 399',\n",
       " 'Medieval',\n",
       " '400 - 1399',\n",
       " '15',\n",
       " 'th',\n",
       " 'Century',\n",
       " '1400 - 1499',\n",
       " '16',\n",
       " 'th',\n",
       " 'Century',\n",
       " '1500 - 1599',\n",
       " '17',\n",
       " 'th',\n",
       " 'Century',\n",
       " '1600 - 1699',\n",
       " '18',\n",
       " 'th',\n",
       " 'Century',\n",
       " '1700 - 1799',\n",
       " '19',\n",
       " 'th',\n",
       " 'Century',\n",
       " '1800 - 1899',\n",
       " '20',\n",
       " 'th',\n",
       " 'Century',\n",
       " '1900 - 1999',\n",
       " '21',\n",
       " 'st',\n",
       " 'Century',\n",
       " '2000 -',\n",
       " '&copy; 2008 Lillian Goldman Law Library',\n",
       " '127 Wall Street, New Haven, CT 06511.',\n",
       " 'Avalon Statement of Purpose',\n",
       " 'Contact Us',\n",
       " 'Yale Law Library',\n",
       " 'University Library',\n",
       " 'Yale Law School',\n",
       " 'Search Morris',\n",
       " 'Search Orbis']"
      ]
     },
     "execution_count": 31,
     "metadata": {},
     "output_type": "execute_result"
    }
   ],
   "source": [
    "text_re = re.compile(\"(?<=>)[^<>\\\\\\]*(?=<)\")\n",
    "results = text_re.findall(str(content))\n",
    "results = list(filter(lambda x: x != '', results))\n",
    "results = [x.strip() for x in results]\n",
    "results"
   ]
  },
  {
   "cell_type": "markdown",
   "metadata": {},
   "source": [
    "For each speech, the text I wanted was in between a list item with the date and a list item with something like \"Inaugural Speeches Page.\" The variations in the formats of the dates and the wordings of the last tag caused a couple of confusing errors, which I handled with the `isDate` function and a compound `if` statement, respectively. Because the speeches had a different number of array items above and below, it was useful to have a function that found the start and end indices of the content that I actually wanted to use in the function that returned the desired text."
   ]
  },
  {
   "cell_type": "code",
   "execution_count": 32,
   "metadata": {
    "collapsed": true
   },
   "outputs": [],
   "source": [
    "def isDate(my_str):\n",
    "    months = [\"january\", \"march\", \"april\"] # this works because inaugural addresses only happened in these months\n",
    "    for month in months:\n",
    "        if month in my_str.lower():\n",
    "            return True\n",
    "    return False\n",
    "\n",
    "def indices(textlist):\n",
    "    start = 0\n",
    "    end = 0\n",
    "    for i in range(len(textlist)):\n",
    "        if start == 0 and isDate(textlist[i]):\n",
    "            start = i + 1\n",
    "        if textlist[i] == \"Inaugural Speeches Page\" or 'Inauguration Speeches Page' in textlist[i]:\n",
    "            end = i\n",
    "    return (start, end)\n",
    "\n",
    "def generate_text(textlist):\n",
    "    bounds = indices(textlist)\n",
    "    text = \"\"\n",
    "    for i in range(bounds[0], bounds[1]):\n",
    "        text += textlist[i] + \" \"\n",
    "    return text"
   ]
  },
  {
   "cell_type": "markdown",
   "metadata": {},
   "source": [
    "Finally I combined the work done above with the Flesch-Kincaid reading ease test in a function that could work with the `speech_links` array.\n",
    "\n",
    "Here, I'm going to take a moment to talk about how the Flesch-Kincaid reading ease test works. \n",
    "\n",
    "The test is based on a couple of simple ideas: 1) texts with longer sentences are harder to read, and 2) texts with longer words are harder to read. Sentence length is determined by the average number of words in a sentence, and word length is determined by the average number of the syllables in a word. \n",
    "\n",
    "I got all my information about Flesch-Kincaid from this source: https://readable.io/\n",
    "\n",
    "I originally built my own implementation of the algorithm, but I then decided to use `textstat`'s implementation because it had error handling. "
   ]
  },
  {
   "cell_type": "code",
   "execution_count": 33,
   "metadata": {
    "collapsed": false
   },
   "outputs": [
    {
     "data": {
      "text/plain": [
       "[{'grade': 27.5, 'id': '1789'},\n",
       " {'grade': 16.5, 'id': '1793'},\n",
       " {'grade': 27.4, 'id': '1797'},\n",
       " {'grade': 27.2, 'id': '1801'},\n",
       " {'grade': 22.9, 'id': '1805'},\n",
       " {'grade': 18.9, 'id': '1809'},\n",
       " {'grade': 17.6, 'id': '1813'},\n",
       " {'grade': 13.2, 'id': '1817'},\n",
       " {'grade': 15.3, 'id': '1821'},\n",
       " {'grade': 17.3, 'id': '1825'},\n",
       " {'grade': 20.3, 'id': '1829'},\n",
       " {'grade': 18.6, 'id': '1833'},\n",
       " {'grade': 18.3, 'id': '1841'},\n",
       " {'grade': 15.8, 'id': '1845'},\n",
       " {'grade': 22.6, 'id': '1849'},\n",
       " {'grade': 16.0, 'id': '1853'},\n",
       " {'grade': 12.6, 'id': '1861'},\n",
       " {'grade': 12.1, 'id': '1865'},\n",
       " {'grade': 13.3, 'id': '1869'},\n",
       " {'grade': 13.2, 'id': '1873'},\n",
       " {'grade': 19.6, 'id': '1877'},\n",
       " {'grade': 18.7, 'id': '1885'},\n",
       " {'grade': 18.0, 'id': '1893'},\n",
       " {'grade': 14.4, 'id': '1889'},\n",
       " {'grade': 15.1, 'id': '1897'},\n",
       " {'grade': 11.7, 'id': '1901'},\n",
       " {'grade': 13.6, 'id': '1905'},\n",
       " {'grade': 16.5, 'id': '1909'},\n",
       " {'grade': 12.0, 'id': '1913'},\n",
       " {'grade': 11.0, 'id': '1917'},\n",
       " {'grade': 11.8, 'id': '1921'},\n",
       " {'grade': 12.2, 'id': '1929'},\n",
       " {'grade': 10.7, 'id': '1933'},\n",
       " {'grade': 9.4, 'id': '1937'},\n",
       " {'grade': 9.5, 'id': '1941'},\n",
       " {'grade': 7.1, 'id': '1945'},\n",
       " {'grade': 10.9, 'id': '1949'},\n",
       " {'grade': 10.5, 'id': '1953'},\n",
       " {'grade': 7.3, 'id': '1957'},\n",
       " {'grade': 10.2, 'id': '1961'},\n",
       " {'grade': 7.3, 'id': '1965'},\n",
       " {'grade': 8.6, 'id': '1969'},\n",
       " {'grade': 10.5, 'id': '1973'},\n",
       " {'grade': 10.1, 'id': '1977'},\n",
       " {'grade': 8.3, 'id': '1981'},\n",
       " {'grade': 8.9, 'id': '1985'},\n",
       " {'grade': 7.8, 'id': '1989'},\n",
       " {'grade': 9.4, 'id': '1993'},\n",
       " {'grade': 8.2, 'id': '1997'},\n",
       " {'grade': 9.6, 'id': '2001'},\n",
       " {'grade': 8.7, 'id': '2005'},\n",
       " {'grade': 9.3, 'id': '2009'}]"
      ]
     },
     "execution_count": 33,
     "metadata": {},
     "output_type": "execute_result"
    }
   ],
   "source": [
    "def url_to_grade(url):\n",
    "    content = requests.get(url).content\n",
    "    text_re = re.compile(\"(?<=>)[^<>\\\\\\]*(?=<)\")\n",
    "    results = text_re.findall(str(content))\n",
    "    results = list(filter(lambda x: x != '', results))\n",
    "    results = [x.strip() for x in results]\n",
    "    text = generate_text(results)\n",
    "    return textstat.flesch_kincaid_grade(text)\n",
    "\n",
    "grades = []\n",
    "for i in range(len(speech_links)):\n",
    "    url = \"http://avalon.law.yale.edu/\" + speech_links[i]['link']\n",
    "    grades.append({'id': speech_links[i]['id'], 'grade': url_to_grade(url)})\n",
    "grades"
   ]
  },
  {
   "cell_type": "markdown",
   "metadata": {},
   "source": [
    "There was one more thing that I nearly forgot! I had to add in the inaugural addresses that weren't on the website. I got those from the following websites and saved them in text files in the same folder as this Jupyter Notebook.\n",
    "\n",
    "http://www.presidency.ucsb.edu/ws/index.php?pid=25812\n",
    "\n",
    "https://www.whitehouse.gov/inaugural-address\n",
    "\n",
    "https://obamawhitehouse.archives.gov/the-press-office/2013/01/21/inaugural-address-president-barack-obama\n",
    "\n",
    "http://www.presidency.ucsb.edu/ws/index.php?pid=25817\n",
    "\n",
    "http://www.presidency.ucsb.edu/ws/index.php?pid=25823\n",
    "\n",
    "http://www.presidency.ucsb.edu/ws/index.php?pid=25834"
   ]
  },
  {
   "cell_type": "code",
   "execution_count": 34,
   "metadata": {
    "collapsed": false
   },
   "outputs": [
    {
     "data": {
      "text/plain": [
       "[{'grade': 27.5, 'id': '1789'},\n",
       " {'grade': 16.5, 'id': '1793'},\n",
       " {'grade': 27.4, 'id': '1797'},\n",
       " {'grade': 27.2, 'id': '1801'},\n",
       " {'grade': 22.9, 'id': '1805'},\n",
       " {'grade': 18.9, 'id': '1809'},\n",
       " {'grade': 17.6, 'id': '1813'},\n",
       " {'grade': 13.2, 'id': '1817'},\n",
       " {'grade': 15.3, 'id': '1821'},\n",
       " {'grade': 17.3, 'id': '1825'},\n",
       " {'grade': 20.3, 'id': '1829'},\n",
       " {'grade': 18.6, 'id': '1833'},\n",
       " {'grade': 18.5, 'id': '1837'},\n",
       " {'grade': 18.3, 'id': '1841'},\n",
       " {'grade': 15.8, 'id': '1845'},\n",
       " {'grade': 22.6, 'id': '1849'},\n",
       " {'grade': 16.0, 'id': '1853'},\n",
       " {'grade': 15.7, 'id': '1857'},\n",
       " {'grade': 12.6, 'id': '1861'},\n",
       " {'grade': 12.1, 'id': '1865'},\n",
       " {'grade': 13.3, 'id': '1869'},\n",
       " {'grade': 13.2, 'id': '1873'},\n",
       " {'grade': 19.6, 'id': '1877'},\n",
       " {'grade': 13.7, 'id': '1881'},\n",
       " {'grade': 18.7, 'id': '1885'},\n",
       " {'grade': 14.4, 'id': '1889'},\n",
       " {'grade': 18.0, 'id': '1893'},\n",
       " {'grade': 15.1, 'id': '1897'},\n",
       " {'grade': 11.7, 'id': '1901'},\n",
       " {'grade': 13.6, 'id': '1905'},\n",
       " {'grade': 16.5, 'id': '1909'},\n",
       " {'grade': 12.0, 'id': '1913'},\n",
       " {'grade': 11.0, 'id': '1917'},\n",
       " {'grade': 11.8, 'id': '1921'},\n",
       " {'grade': 11.4, 'id': '1925'},\n",
       " {'grade': 12.2, 'id': '1929'},\n",
       " {'grade': 10.7, 'id': '1933'},\n",
       " {'grade': 9.4, 'id': '1937'},\n",
       " {'grade': 9.5, 'id': '1941'},\n",
       " {'grade': 7.1, 'id': '1945'},\n",
       " {'grade': 10.9, 'id': '1949'},\n",
       " {'grade': 10.5, 'id': '1953'},\n",
       " {'grade': 7.3, 'id': '1957'},\n",
       " {'grade': 10.2, 'id': '1961'},\n",
       " {'grade': 7.3, 'id': '1965'},\n",
       " {'grade': 8.6, 'id': '1969'},\n",
       " {'grade': 10.5, 'id': '1973'},\n",
       " {'grade': 10.1, 'id': '1977'},\n",
       " {'grade': 8.3, 'id': '1981'},\n",
       " {'grade': 8.9, 'id': '1985'},\n",
       " {'grade': 7.8, 'id': '1989'},\n",
       " {'grade': 9.4, 'id': '1993'},\n",
       " {'grade': 8.2, 'id': '1997'},\n",
       " {'grade': 9.6, 'id': '2001'},\n",
       " {'grade': 8.7, 'id': '2005'},\n",
       " {'grade': 9.3, 'id': '2009'},\n",
       " {'grade': 11.5, 'id': '2013'},\n",
       " {'grade': 8.5, 'id': '2017'}]"
      ]
     },
     "execution_count": 34,
     "metadata": {},
     "output_type": "execute_result"
    }
   ],
   "source": [
    "filenames = [\"1837\", \"1857\", \"1881\", \"1925\", \"2013\", \"2017\"]\n",
    "for filename in filenames:\n",
    "    file = open(filename + \".txt\", 'r') \n",
    "    grade = textstat.flesch_kincaid_grade(file.read())\n",
    "    grades.append({'id': filename, 'grade': grade})\n",
    "grades = sorted(grades, key=lambda k: k['id']) # This will probably be convenient later.\n",
    "grades"
   ]
  },
  {
   "cell_type": "markdown",
   "metadata": {},
   "source": [
    "Now, I'm going to read this final product out as a CSV to use for my data visualization."
   ]
  },
  {
   "cell_type": "code",
   "execution_count": 35,
   "metadata": {
    "collapsed": false
   },
   "outputs": [],
   "source": [
    "with open('inaugural_grades.txt', 'w') as f:\n",
    "    f.write('year,grade \\n')\n",
    "    for item in grades:\n",
    "        f.write(str(item['id']) + \",\" + str(item['grade']) + \"\\n\")\n",
    "    f.close()"
   ]
  }
 ],
 "metadata": {
  "anaconda-cloud": {},
  "kernelspec": {
   "display_name": "Python [Root]",
   "language": "python",
   "name": "Python [Root]"
  },
  "language_info": {
   "codemirror_mode": {
    "name": "ipython",
    "version": 3
   },
   "file_extension": ".py",
   "mimetype": "text/x-python",
   "name": "python",
   "nbconvert_exporter": "python",
   "pygments_lexer": "ipython3",
   "version": "3.5.2"
  }
 },
 "nbformat": 4,
 "nbformat_minor": 0
}
