{
 "cells": [
  {
   "cell_type": "code",
   "execution_count": 6,
   "metadata": {
    "collapsed": false
   },
   "outputs": [],
   "source": [
    "import json\n",
    "import string\n",
    "\n",
    "import numpy as np\n",
    "import pandas as pd\n",
    "import requests\n",
    "\n",
    "import nltk\n",
    "import re\n",
    "from textstat.textstat import textstat"
   ]
  },
  {
   "cell_type": "code",
   "execution_count": 7,
   "metadata": {
    "collapsed": false
   },
   "outputs": [],
   "source": [
    "web = \"http://avalon.law.yale.edu/\"\n",
    "url_paths = [\"18th_century/wash1.asp\", \"18th_century/wash2.asp\", \"18th_century/adams.asp\", \"19th_century/jefinau1.asp\",\n",
    "             \"19th_century/jefinau2.asp\", \"19th_century/madison1.asp\", \"19th_century/madison2.asp\", \"19th_century/monroe1.asp\",\n",
    "             \"19th_century/monroe1.asp\", \"19th_century/monroe2.asp\", \"19th_century/monroe2.asp\", \"19th_century/qadams.asp\", \n",
    "             \"19th_century/jackson1.asp\", \"19th_century/jackson2.asp\", \"skip\", \"19th_century/harrison.asp\", \"19th_century/polk.asp\", \n",
    "             \"\"]\n",
    "# res = requests.get(url)"
   ]
  },
  {
   "cell_type": "code",
   "execution_count": 8,
   "metadata": {
    "collapsed": false
   },
   "outputs": [],
   "source": [
    "# dir(res)"
   ]
  },
  {
   "cell_type": "code",
   "execution_count": 10,
   "metadata": {
    "collapsed": false
   },
   "outputs": [],
   "source": [
    "# text = res.content"
   ]
  },
  {
   "cell_type": "markdown",
   "metadata": {},
   "source": [
    "any characters not contained in <> or preceded by a \\"
   ]
  },
  {
   "cell_type": "code",
   "execution_count": 11,
   "metadata": {
    "collapsed": false
   },
   "outputs": [],
   "source": [
    "def pull_text(url):\n",
    "    res = requests.get(url)\n",
    "    regex = re.compile(\"(?<=>)[^<>\\\\\\]*(?=<)\")\n",
    "    results = regex.findall(str(res.content))\n",
    "    results = list(filter(lambda x: x != '', results))\n",
    "    results = [x.strip() for x in results]\n",
    "    return results"
   ]
  },
  {
   "cell_type": "code",
   "execution_count": 12,
   "metadata": {
    "collapsed": true
   },
   "outputs": [],
   "source": [
    "url2 = \"http://avalon.law.yale.edu/18th_century/wash2.asp\""
   ]
  },
  {
   "cell_type": "code",
   "execution_count": 13,
   "metadata": {
    "collapsed": false,
    "scrolled": true
   },
   "outputs": [
    {
     "data": {
      "text/plain": [
       "['The Avalon Project : Second Inaugural Address of George Washington',\n",
       " 'Avalon Home',\n",
       " 'Document',\n",
       " 'Collections',\n",
       " 'Ancient',\n",
       " '4000bce - 399',\n",
       " 'Medieval',\n",
       " '400 - 1399',\n",
       " '15',\n",
       " 'th',\n",
       " 'Century',\n",
       " '1400 - 1499',\n",
       " '16',\n",
       " 'th',\n",
       " 'Century',\n",
       " '1500 - 1599',\n",
       " '17',\n",
       " 'th',\n",
       " 'Century',\n",
       " '1600 - 1699',\n",
       " '18',\n",
       " 'th',\n",
       " 'Century',\n",
       " '1700 - 1799',\n",
       " '19',\n",
       " 'th',\n",
       " 'Century',\n",
       " '1800 - 1899',\n",
       " '20',\n",
       " 'th',\n",
       " 'Century',\n",
       " '1900 - 1999',\n",
       " '21',\n",
       " 'st',\n",
       " 'Century',\n",
       " '2000 -',\n",
       " 'THE CITY OF PHILADELPHIA',\n",
       " 'MONDAY, MARCH 4, 1793',\n",
       " 'Fellow Citizens:',\n",
       " 'I am again called upon by the voice of my country to execute the functions of its Chief Magistrate. When the occasion proper for it shall arrive, I shall endeavor to express the high sense I entertain of this distinguished honor, and of the confidence which has been reposed in me by the people of united America.',\n",
       " 'Previous to the execution of any official act of the President the',\n",
       " 'Constitution',\n",
       " 'requires an',\n",
       " 'oath of office',\n",
       " '. This oath I am now about to take, and in your presence: That if it shall be found during my administration of the Government I have in any instance violated willingly or knowingly the injunctions thereof, I may (besides incurring constitutional punishment) be subject to the upbraidings of all who are now witnesses of the present solemn ceremony.',\n",
       " 'Inaugural Speeches Page',\n",
       " 'George Washington Papers',\n",
       " 'Avalon Home',\n",
       " 'Document',\n",
       " 'Collections',\n",
       " 'Ancient',\n",
       " '4000bce - 399',\n",
       " 'Medieval',\n",
       " '400 - 1399',\n",
       " '15',\n",
       " 'th',\n",
       " 'Century',\n",
       " '1400 - 1499',\n",
       " '16',\n",
       " 'th',\n",
       " 'Century',\n",
       " '1500 - 1599',\n",
       " '17',\n",
       " 'th',\n",
       " 'Century',\n",
       " '1600 - 1699',\n",
       " '18',\n",
       " 'th',\n",
       " 'Century',\n",
       " '1700 - 1799',\n",
       " '19',\n",
       " 'th',\n",
       " 'Century',\n",
       " '1800 - 1899',\n",
       " '20',\n",
       " 'th',\n",
       " 'Century',\n",
       " '1900 - 1999',\n",
       " '21',\n",
       " 'st',\n",
       " 'Century',\n",
       " '2000 -',\n",
       " '&copy; 2008 Lillian Goldman Law Library',\n",
       " '127 Wall Street, New Haven, CT 06511.',\n",
       " 'Avalon Statement of Purpose',\n",
       " 'Contact Us',\n",
       " 'Yale Law Library',\n",
       " 'University Library',\n",
       " 'Yale Law School',\n",
       " 'Search Morris',\n",
       " 'Search Orbis']"
      ]
     },
     "execution_count": 13,
     "metadata": {},
     "output_type": "execute_result"
    }
   ],
   "source": [
    "results = pull_text(url2)\n",
    "results"
   ]
  },
  {
   "cell_type": "code",
   "execution_count": 104,
   "metadata": {
    "collapsed": false
   },
   "outputs": [],
   "source": [
    "def indices_take_1(textlist):\n",
    "    start = 0\n",
    "    end = 0\n",
    "    for i in range(len(textlist)):\n",
    "        if \"DAY,\" in textlist[i]:\n",
    "            start = i + 1\n",
    "        if textlist[i] == \"Inaugural Speeches Page\":\n",
    "            end = i\n",
    "    return (start, end)"
   ]
  },
  {
   "cell_type": "code",
   "execution_count": 105,
   "metadata": {
    "collapsed": false
   },
   "outputs": [
    {
     "data": {
      "text/plain": [
       "(38, 45)"
      ]
     },
     "execution_count": 105,
     "metadata": {},
     "output_type": "execute_result"
    }
   ],
   "source": [
    "indices_take_1(results)"
   ]
  },
  {
   "cell_type": "code",
   "execution_count": 100,
   "metadata": {
    "collapsed": false
   },
   "outputs": [],
   "source": [
    "def isDate(my_str):\n",
    "    months = [\"january\", \"march\", \"april\"]\n",
    "    for month in months:\n",
    "        if month in my_str.lower():\n",
    "            return True"
   ]
  },
  {
   "cell_type": "code",
   "execution_count": 101,
   "metadata": {
    "collapsed": true
   },
   "outputs": [],
   "source": [
    "def indices(textlist):\n",
    "    start = 0\n",
    "    end = 0\n",
    "    for i in range(len(textlist)):\n",
    "        if start == 0 and isDate(textlist[i]):\n",
    "            start = i + 1\n",
    "        if textlist[i] == \"Inaugural Speeches Page\" or 'Inauguration Speeches Page' in textlist[i]:\n",
    "            end = i\n",
    "    return (start, end)"
   ]
  },
  {
   "cell_type": "code",
   "execution_count": 102,
   "metadata": {
    "collapsed": false
   },
   "outputs": [
    {
     "data": {
      "text/plain": [
       "(38, 45)"
      ]
     },
     "execution_count": 102,
     "metadata": {},
     "output_type": "execute_result"
    }
   ],
   "source": [
    "indices(results)"
   ]
  },
  {
   "cell_type": "code",
   "execution_count": 61,
   "metadata": {
    "collapsed": false
   },
   "outputs": [
    {
     "name": "stdout",
     "output_type": "stream",
     "text": [
      "37\n"
     ]
    }
   ],
   "source": [
    "for i in range(len(results)):\n",
    "    start = 0\n",
    "    if results[i].isupper() and ',' in results[i]:\n",
    "        start = i\n",
    "        print(start)"
   ]
  },
  {
   "cell_type": "code",
   "execution_count": 70,
   "metadata": {
    "collapsed": true
   },
   "outputs": [],
   "source": [
    "def generate_text(textlist):\n",
    "    bounds = indices(textlist)\n",
    "    text = \"\"\n",
    "    for i in range(bounds[0], bounds[1]):\n",
    "        text += textlist[i] + \" \"\n",
    "    return text"
   ]
  },
  {
   "cell_type": "code",
   "execution_count": 63,
   "metadata": {
    "collapsed": false
   },
   "outputs": [
    {
     "name": "stdout",
     "output_type": "stream",
     "text": [
      "Fellow Citizens: I am again called upon by the voice of my country to execute the functions of its Chief Magistrate. When the occasion proper for it shall arrive, I shall endeavor to express the high sense I entertain of this distinguished honor, and of the confidence which has been reposed in me by the people of united America. Previous to the execution of any official act of the President the Constitution requires an oath of office . This oath I am now about to take, and in your presence: That if it shall be found during my administration of the Government I have in any instance violated willingly or knowingly the injunctions thereof, I may (besides incurring constitutional punishment) be subject to the upbraidings of all who are now witnesses of the present solemn ceremony. \n"
     ]
    }
   ],
   "source": [
    "generate_text(results)"
   ]
  },
  {
   "cell_type": "code",
   "execution_count": 56,
   "metadata": {
    "collapsed": true
   },
   "outputs": [],
   "source": [
    "def combo(url):\n",
    "    return generate_text(pull_text(url))"
   ]
  },
  {
   "cell_type": "code",
   "execution_count": 19,
   "metadata": {
    "collapsed": false,
    "scrolled": true
   },
   "outputs": [
    {
     "data": {
      "text/plain": [
       "'Fellow Citizens:I am again called upon by the voice of my country to execute the functions of its Chief Magistrate. When the occasion proper for it shall arrive, I shall endeavor to express the high sense I entertain of this distinguished honor, and of the confidence which has been reposed in me by the people of united America.Previous to the execution of any official act of the President theConstitutionrequires anoath of office. This oath I am now about to take, and in your presence: That if it shall be found during my administration of the Government I have in any instance violated willingly or knowingly the injunctions thereof, I may (besides incurring constitutional punishment) be subject to the upbraidings of all who are now witnesses of the present solemn ceremony.Inaugural Speeches PageGeorge Washington Papers'"
      ]
     },
     "execution_count": 19,
     "metadata": {},
     "output_type": "execute_result"
    }
   ],
   "source": [
    "results[38]\n",
    "wash1 = \"\"\n",
    "for i in range(38, 47):\n",
    "    wash1 += results[i]\n",
    "wash1"
   ]
  },
  {
   "cell_type": "code",
   "execution_count": 20,
   "metadata": {
    "collapsed": false
   },
   "outputs": [
    {
     "data": {
      "text/plain": [
       "226"
      ]
     },
     "execution_count": 20,
     "metadata": {},
     "output_type": "execute_result"
    }
   ],
   "source": [
    "int(textstat.syllable_count(wash1)) + 1\n"
   ]
  },
  {
   "cell_type": "code",
   "execution_count": 21,
   "metadata": {
    "collapsed": false
   },
   "outputs": [
    {
     "data": {
      "text/plain": [
       "['Fellow Citizens:I am again called upon by the voice of my country to execute the functions of its Chief Magistrate.',\n",
       " 'When the occasion proper for it shall arrive, I shall endeavor to express the high sense I entertain of this distinguished honor, and of the confidence which has been reposed in me by the people of united America.Previous to the execution of any official act of the President theConstitutionrequires anoath of office.',\n",
       " 'This oath I am now about to take, and in your presence: That if it shall be found during my administration of the Government I have in any instance violated willingly or knowingly the injunctions thereof, I may (besides incurring constitutional punishment) be subject to the upbraidings of all who are now witnesses of the present solemn ceremony.Inaugural Speeches PageGeorge Washington Papers']"
      ]
     },
     "execution_count": 21,
     "metadata": {},
     "output_type": "execute_result"
    }
   ],
   "source": [
    "nltk.sent_tokenize(wash1)"
   ]
  },
  {
   "cell_type": "code",
   "execution_count": 22,
   "metadata": {
    "collapsed": false,
    "scrolled": true
   },
   "outputs": [
    {
     "data": {
      "text/plain": [
       "['__class__',\n",
       " '__delattr__',\n",
       " '__dict__',\n",
       " '__dir__',\n",
       " '__doc__',\n",
       " '__eq__',\n",
       " '__format__',\n",
       " '__ge__',\n",
       " '__getattribute__',\n",
       " '__gt__',\n",
       " '__hash__',\n",
       " '__init__',\n",
       " '__le__',\n",
       " '__lt__',\n",
       " '__module__',\n",
       " '__ne__',\n",
       " '__new__',\n",
       " '__reduce__',\n",
       " '__reduce_ex__',\n",
       " '__repr__',\n",
       " '__setattr__',\n",
       " '__sizeof__',\n",
       " '__str__',\n",
       " '__subclasshook__',\n",
       " '__weakref__',\n",
       " 'automated_readability_index',\n",
       " 'avg_letter_per_word',\n",
       " 'avg_sentence_length',\n",
       " 'avg_sentence_per_word',\n",
       " 'avg_syllables_per_word',\n",
       " 'char_count',\n",
       " 'coleman_liau_index',\n",
       " 'dale_chall_readability_score',\n",
       " 'difficult_words',\n",
       " 'flesch_kincaid_grade',\n",
       " 'flesch_reading_ease',\n",
       " 'gunning_fog',\n",
       " 'lexicon_count',\n",
       " 'linsear_write_formula',\n",
       " 'polysyllabcount',\n",
       " 'sentence_count',\n",
       " 'smog_index',\n",
       " 'syllable_count',\n",
       " 'text_standard']"
      ]
     },
     "execution_count": 22,
     "metadata": {},
     "output_type": "execute_result"
    }
   ],
   "source": [
    "dir(textstat)"
   ]
  },
  {
   "cell_type": "code",
   "execution_count": 23,
   "metadata": {
    "collapsed": false
   },
   "outputs": [],
   "source": [
    "def flesch_grade(text):\n",
    "    num_words = len(nltk.word_tokenize(text))\n",
    "    num_sentences = len(nltk.sent_tokenize(text))\n",
    "    num_syllables = int(textstat.syllable_count(wash1)) + 1\n",
    "    return 0.39 * (num_words/num_sentences) + 11.8 * (num_syllables/num_words) - 15.59"
   ]
  },
  {
   "cell_type": "code",
   "execution_count": 24,
   "metadata": {
    "collapsed": false
   },
   "outputs": [
    {
     "data": {
      "text/plain": [
       "21.651724137931037"
      ]
     },
     "execution_count": 24,
     "metadata": {},
     "output_type": "execute_result"
    }
   ],
   "source": [
    "flesch_grade(wash1)"
   ]
  },
  {
   "cell_type": "code",
   "execution_count": null,
   "metadata": {
    "collapsed": false
   },
   "outputs": [],
   "source": []
  },
  {
   "cell_type": "code",
   "execution_count": 25,
   "metadata": {
    "collapsed": true
   },
   "outputs": [],
   "source": [
    "from bs4 import BeautifulSoup"
   ]
  },
  {
   "cell_type": "code",
   "execution_count": 26,
   "metadata": {
    "collapsed": false
   },
   "outputs": [
    {
     "name": "stdout",
     "output_type": "stream",
     "text": [
      "<html>\n",
      " <head>\n",
      "  <link href=\"../css/site.css\" rel=\"stylesheet\" type=\"text/css\">\n",
      "   <title>\n",
      "    Avalon Project - The Inaugural Addresses of the Presidents\n",
      "   </title>\n",
      "  </link>\n",
      " </head>\n",
      " <body>\n",
      "  <div class=\"HeaderContainer\">\n",
      "   <ul class=\"HeaderTopTools\">\n",
      "    <li class=\"Search\">\n",
      "     <table border=\"0\" cellpadding=\"0\" cellspacing=\"0\">\n",
      "      <form action=\"http://www.google.com/u/yaleu\" id=\"form\" method=\"get\" name=\"form\" target=\"_blank\">\n",
      "       <input name=\"domains\" type=\"hidden\" value=\"yale.edu\">\n",
      "        <input name=\"sitesearch\" type=\"hidden\" value=\"avalon.law.yale.edu/\">\n",
      "         <tr>\n",
      "          <td>\n",
      "           <!--<input onblur=\"if (this.value==''){this.value='Search Avalon'}\" onfocus=\"if (this.value=='Search Avalon'){this.value=''}\" type=\"text\" name=\"q\" value=\"Search Avalon\" alt=\"Search Avalon\" class=\"SiteSearchBox\" />\r\n",
      "\t\t\t\t-->\n",
      "          </td>\n",
      "          <!--<td><a href=\"javascript:this.form.submit();\"><img src=\"http://www.law.yale.edu/library/searchGo.gif\" alt=\"Begin Search\" /></a></td>-->\n",
      "          <td>\n",
      "           <!--<input style=\"margin-left:5px;\" type=\"image\" class=\"go\" alt=\"Submit Search\" src=\"http://www.law.yale.edu/library/searchGo.gif\" />\r\n",
      "\t\t\t\t-->\n",
      "          </td>\n",
      "         </tr>\n",
      "        </input>\n",
      "       </input>\n",
      "      </form>\n",
      "     </table>\n",
      "    </li>\n",
      "   </ul>\n",
      "   <img alt=\"Logo\" src=\"../images/avalon_logo2.gif\"/>\n",
      "  </div>\n",
      " </body>\n",
      "</html>\n",
      "<div class=\"text-properties\">\n",
      " <div align=\"center\">\n",
      "  <table border=\"1\" cellpadding=\"5\" class=\"site-menu\">\n",
      "   <tr>\n",
      "    <td>\n",
      "     <a href=\"../default.asp\">\n",
      "      Avalon Home\n",
      "     </a>\n",
      "    </td>\n",
      "    <td>\n",
      "     <a href=\"../subject_menus/major.asp\">\n",
      "      Document\n",
      "      <br>\n",
      "       Collections\n",
      "      </br>\n",
      "     </a>\n",
      "    </td>\n",
      "    <td>\n",
      "     <a href=\"../subject_menus/ancient.asp\">\n",
      "      Ancient\n",
      "      <br>\n",
      "       4000bce - 399\n",
      "      </br>\n",
      "     </a>\n",
      "    </td>\n",
      "    <td>\n",
      "     <a href=\"../subject_menus/medieval.asp\">\n",
      "      Medieval\n",
      "      <br>\n",
      "       400 - 1399\n",
      "      </br>\n",
      "     </a>\n",
      "    </td>\n",
      "    <td>\n",
      "     <a href=\"../subject_menus/15th.asp\">\n",
      "      15\n",
      "      <sup>\n",
      "       th\n",
      "      </sup>\n",
      "      Century\n",
      "      <br>\n",
      "       1400 - 1499\n",
      "      </br>\n",
      "     </a>\n",
      "    </td>\n",
      "    <td>\n",
      "     <a href=\"../subject_menus/16th.asp\">\n",
      "      16\n",
      "      <sup>\n",
      "       th\n",
      "      </sup>\n",
      "      Century\n",
      "      <br>\n",
      "       1500 - 1599\n",
      "      </br>\n",
      "     </a>\n",
      "    </td>\n",
      "    <td>\n",
      "     <a href=\"../subject_menus/17th.asp\">\n",
      "      17\n",
      "      <sup>\n",
      "       th\n",
      "      </sup>\n",
      "      Century\n",
      "      <br>\n",
      "       1600 - 1699\n",
      "      </br>\n",
      "     </a>\n",
      "    </td>\n",
      "    <td>\n",
      "     <a href=\"../subject_menus/18th.asp\">\n",
      "      18\n",
      "      <sup>\n",
      "       th\n",
      "      </sup>\n",
      "      Century\n",
      "      <br>\n",
      "       1700 - 1799\n",
      "      </br>\n",
      "     </a>\n",
      "    </td>\n",
      "    <td>\n",
      "     <a href=\"../subject_menus/19th.asp\">\n",
      "      19\n",
      "      <sup>\n",
      "       th\n",
      "      </sup>\n",
      "      Century\n",
      "      <br>\n",
      "       1800 - 1899\n",
      "      </br>\n",
      "     </a>\n",
      "    </td>\n",
      "    <td>\n",
      "     <a href=\"../subject_menus/20th.asp\">\n",
      "      20\n",
      "      <sup>\n",
      "       th\n",
      "      </sup>\n",
      "      Century\n",
      "      <br>\n",
      "       1900 - 1999\n",
      "      </br>\n",
      "     </a>\n",
      "    </td>\n",
      "    <td>\n",
      "     <a href=\"../subject_menus/21st.asp\">\n",
      "      21\n",
      "      <sup>\n",
      "       st\n",
      "      </sup>\n",
      "      Century\n",
      "      <br>\n",
      "       2000 -\n",
      "      </br>\n",
      "     </a>\n",
      "    </td>\n",
      "   </tr>\n",
      "  </table>\n",
      " </div>\n",
      " <div class=\"document-title\">\n",
      "  The Inaugural Addresses of the Presidents\n",
      " </div>\n",
      " <div align=\"center\">\n",
      "  <table cellpadding=\"5\">\n",
      "   <tr>\n",
      "    <td>\n",
      "     President\n",
      "    </td>\n",
      "    <td>\n",
      "     1st Term\n",
      "    </td>\n",
      "    <td>\n",
      "     2nd Term\n",
      "    </td>\n",
      "    <td>\n",
      "     3rd Term\n",
      "    </td>\n",
      "    <td>\n",
      "     4th Term\n",
      "    </td>\n",
      "   </tr>\n",
      "   <tr>\n",
      "    <td>\n",
      "     <span class=\"listheader\">\n",
      "      George Washington\n",
      "     </span>\n",
      "    </td>\n",
      "    <td>\n",
      "     <a href=\"../18th_century/wash1.asp\">\n",
      "      1789\n",
      "     </a>\n",
      "    </td>\n",
      "    <td>\n",
      "     <a href=\"../18th_century/wash2.asp\">\n",
      "      1793\n",
      "     </a>\n",
      "    </td>\n",
      "   </tr>\n",
      "   <tr>\n",
      "    <td>\n",
      "     <span class=\"listheader\">\n",
      "      John Adams\n",
      "     </span>\n",
      "    </td>\n",
      "    <td>\n",
      "     <a href=\"../18th_century/adams.asp\">\n",
      "      1797\n",
      "     </a>\n",
      "    </td>\n",
      "   </tr>\n",
      "   <tr>\n",
      "    <td>\n",
      "     <span class=\"listheader\">\n",
      "      Thomas Jefferson\n",
      "     </span>\n",
      "    </td>\n",
      "    <td>\n",
      "     <a href=\"../19th_century/jefinau1.asp\">\n",
      "      1801\n",
      "     </a>\n",
      "    </td>\n",
      "    <td>\n",
      "     <a href=\"../19th_century/jefinau2.asp\">\n",
      "      1805\n",
      "     </a>\n",
      "    </td>\n",
      "   </tr>\n",
      "   <tr>\n",
      "    <td>\n",
      "     <span class=\"listheader\">\n",
      "      James Madison\n",
      "     </span>\n",
      "    </td>\n",
      "    <td>\n",
      "     <a href=\"../19th_century/madison1.asp\">\n",
      "      1809\n",
      "     </a>\n",
      "    </td>\n",
      "    <td>\n",
      "     <a href=\"../19th_century/madison2.asp\">\n",
      "      1813\n",
      "     </a>\n",
      "    </td>\n",
      "   </tr>\n",
      "   <tr>\n",
      "    <td>\n",
      "     <span class=\"listheader\">\n",
      "      James Monroe\n",
      "     </span>\n",
      "    </td>\n",
      "    <td>\n",
      "     <a href=\"../19th_century/monroe1.asp\">\n",
      "      1817\n",
      "     </a>\n",
      "    </td>\n",
      "    <td>\n",
      "     <a href=\"../19th_century/monroe2.asp\">\n",
      "      1821\n",
      "     </a>\n",
      "    </td>\n",
      "   </tr>\n",
      "   <tr>\n",
      "    <td>\n",
      "     <span class=\"listheader\">\n",
      "      John Quincy Adams\n",
      "     </span>\n",
      "    </td>\n",
      "    <td>\n",
      "     <a href=\"../19th_century/qadams.asp\">\n",
      "      1825\n",
      "     </a>\n",
      "    </td>\n",
      "   </tr>\n",
      "   <tr>\n",
      "    <td>\n",
      "     <span class=\"listheader\">\n",
      "      Andrew Jackson\n",
      "     </span>\n",
      "    </td>\n",
      "    <td>\n",
      "     <a href=\"../19th_century/jackson1.asp\">\n",
      "      1829\n",
      "     </a>\n",
      "    </td>\n",
      "    <td>\n",
      "     <a href=\"../19th_century/jackson2.asp\">\n",
      "      1833\n",
      "     </a>\n",
      "    </td>\n",
      "   </tr>\n",
      "   <tr>\n",
      "    <td>\n",
      "     <span class=\"listheader\">\n",
      "      Martin Van Buren\n",
      "     </span>\n",
      "    </td>\n",
      "    <td>\n",
      "     <a href=\"../19th_century/vanburen.asp\">\n",
      "      1837\n",
      "     </a>\n",
      "    </td>\n",
      "   </tr>\n",
      "   <tr>\n",
      "    <td>\n",
      "     <span class=\"listheader\">\n",
      "      William Henry Harrison\n",
      "     </span>\n",
      "    </td>\n",
      "    <td>\n",
      "     <a href=\"../19th_century/harrison.asp\">\n",
      "      1841\n",
      "     </a>\n",
      "    </td>\n",
      "   </tr>\n",
      "   <tr>\n",
      "    <td>\n",
      "     <span class=\"listheader\">\n",
      "      James Polk\n",
      "     </span>\n",
      "    </td>\n",
      "    <td>\n",
      "     <a href=\"../19th_century/polk.asp\">\n",
      "      1845\n",
      "     </a>\n",
      "    </td>\n",
      "   </tr>\n",
      "   <tr>\n",
      "    <td>\n",
      "     <span class=\"listheader\">\n",
      "      Zachary Taylor\n",
      "     </span>\n",
      "    </td>\n",
      "    <td>\n",
      "     <a href=\"../19th_century/taylor.asp\">\n",
      "      1849\n",
      "     </a>\n",
      "    </td>\n",
      "   </tr>\n",
      "   <tr>\n",
      "    <td>\n",
      "     <span class=\"listheader\">\n",
      "      Franklin Pierce\n",
      "     </span>\n",
      "    </td>\n",
      "    <td>\n",
      "     <a href=\"../19th_century/pierce.asp\">\n",
      "      1853\n",
      "     </a>\n",
      "    </td>\n",
      "   </tr>\n",
      "   <tr>\n",
      "    <td>\n",
      "     <span class=\"listheader\">\n",
      "      James Buchanan\n",
      "     </span>\n",
      "    </td>\n",
      "    <td>\n",
      "     <a href=\"../19th_century/buchanan.asp\">\n",
      "      1857\n",
      "     </a>\n",
      "    </td>\n",
      "   </tr>\n",
      "   <tr>\n",
      "    <td>\n",
      "     <span class=\"listheader\">\n",
      "      Abraham Lincoln\n",
      "     </span>\n",
      "    </td>\n",
      "    <td>\n",
      "     <a href=\"../19th_century/lincoln1.asp\">\n",
      "      1861\n",
      "     </a>\n",
      "    </td>\n",
      "    <td>\n",
      "     <a href=\"../19th_century/lincoln2.asp\">\n",
      "      1865\n",
      "     </a>\n",
      "    </td>\n",
      "   </tr>\n",
      "   <tr>\n",
      "    <td>\n",
      "     <span class=\"listheader\">\n",
      "      Ulysses S. Grant\n",
      "     </span>\n",
      "    </td>\n",
      "    <td>\n",
      "     <a href=\"../19th_century/grant1.asp\">\n",
      "      1869\n",
      "     </a>\n",
      "    </td>\n",
      "    <td>\n",
      "     <a href=\"../19th_century/grant2.asp\">\n",
      "      1873\n",
      "     </a>\n",
      "    </td>\n",
      "   </tr>\n",
      "   <tr>\n",
      "    <td>\n",
      "     <span class=\"listheader\">\n",
      "      Rutherford B. Hayes\n",
      "     </span>\n",
      "    </td>\n",
      "    <td>\n",
      "     <a href=\"../19th_century/hayes.asp\">\n",
      "      1877\n",
      "     </a>\n",
      "    </td>\n",
      "   </tr>\n",
      "   <tr>\n",
      "    <td>\n",
      "     <span class=\"listheader\">\n",
      "      James A. Garfield\n",
      "     </span>\n",
      "    </td>\n",
      "    <td>\n",
      "     <a href=\"../19th_century/garfield.asp\">\n",
      "      1881\n",
      "     </a>\n",
      "    </td>\n",
      "   </tr>\n",
      "   <tr>\n",
      "    <td>\n",
      "     <span class=\"listheader\">\n",
      "      Grover Cleveland\n",
      "     </span>\n",
      "    </td>\n",
      "    <td>\n",
      "     <a href=\"../19th_century/cleve1.asp\">\n",
      "      1885\n",
      "     </a>\n",
      "    </td>\n",
      "    <td>\n",
      "     <a href=\"../19th_century/cleve2.asp\">\n",
      "      1893\n",
      "     </a>\n",
      "    </td>\n",
      "   </tr>\n",
      "   <tr>\n",
      "    <td>\n",
      "     <span class=\"listheader\">\n",
      "      Benjamin Harrison\n",
      "     </span>\n",
      "    </td>\n",
      "    <td>\n",
      "     <a href=\"../19th_century/harris.asp\">\n",
      "      1889\n",
      "     </a>\n",
      "    </td>\n",
      "   </tr>\n",
      "   <tr>\n",
      "    <td>\n",
      "     <span class=\"listheader\">\n",
      "      William McKinley\n",
      "     </span>\n",
      "    </td>\n",
      "    <td>\n",
      "     <a href=\"../19th_century/mckin1.asp\">\n",
      "      1897\n",
      "     </a>\n",
      "    </td>\n",
      "    <td>\n",
      "     <a href=\"../19th_century/mckin2.asp\">\n",
      "      1901\n",
      "     </a>\n",
      "    </td>\n",
      "   </tr>\n",
      "   <tr>\n",
      "    <td>\n",
      "     <span class=\"listheader\">\n",
      "      Theodore Roosevelt\n",
      "     </span>\n",
      "    </td>\n",
      "    <td>\n",
      "     <a href=\"../20th_century/troos.asp\">\n",
      "      1905\n",
      "     </a>\n",
      "    </td>\n",
      "   </tr>\n",
      "   <tr>\n",
      "    <td>\n",
      "     <span class=\"listheader\">\n",
      "      William Howard Taft\n",
      "     </span>\n",
      "    </td>\n",
      "    <td>\n",
      "     <a href=\"../20th_century/taft.asp\">\n",
      "      1909\n",
      "     </a>\n",
      "    </td>\n",
      "   </tr>\n",
      "   <tr>\n",
      "    <td>\n",
      "     <span class=\"listheader\">\n",
      "      Woodrow Wilson\n",
      "     </span>\n",
      "    </td>\n",
      "    <td>\n",
      "     <a href=\"../20th_century/wilson1.asp\">\n",
      "      1913\n",
      "     </a>\n",
      "    </td>\n",
      "    <td>\n",
      "     <a href=\"../20th_century/wilson2.asp\">\n",
      "      1917\n",
      "     </a>\n",
      "    </td>\n",
      "   </tr>\n",
      "   <tr>\n",
      "    <td>\n",
      "     <span class=\"listheader\">\n",
      "      Warren G. Harding\n",
      "     </span>\n",
      "    </td>\n",
      "    <td>\n",
      "     <a href=\"../20th_century/harding.asp\">\n",
      "      1921\n",
      "     </a>\n",
      "    </td>\n",
      "   </tr>\n",
      "   <tr>\n",
      "    <td>\n",
      "     <span class=\"listheader\">\n",
      "      Calvin Coolidge\n",
      "     </span>\n",
      "    </td>\n",
      "    <td>\n",
      "     <a href=\"../20th_century/coolidge.asp\">\n",
      "      1925\n",
      "     </a>\n",
      "    </td>\n",
      "   </tr>\n",
      "   <tr>\n",
      "    <td>\n",
      "     <span class=\"listheader\">\n",
      "      Herbert Hoover\n",
      "     </span>\n",
      "    </td>\n",
      "    <td>\n",
      "     <a href=\"../20th_century/hoover.asp\">\n",
      "      1929\n",
      "     </a>\n",
      "    </td>\n",
      "   </tr>\n",
      "   <tr>\n",
      "    <td>\n",
      "     <span class=\"listheader\">\n",
      "      Franklin D. Roosevelt\n",
      "     </span>\n",
      "    </td>\n",
      "    <td>\n",
      "     <a href=\"../20th_century/froos1.asp\">\n",
      "      1933\n",
      "     </a>\n",
      "    </td>\n",
      "    <td>\n",
      "     <a href=\"../20th_century/froos2.asp\">\n",
      "      1937\n",
      "     </a>\n",
      "    </td>\n",
      "    <td>\n",
      "     <a href=\"../20th_century/froos3.asp\">\n",
      "      1941\n",
      "     </a>\n",
      "    </td>\n",
      "    <td>\n",
      "     <a href=\"../20th_century/froos4.asp\">\n",
      "      1945\n",
      "     </a>\n",
      "    </td>\n",
      "   </tr>\n",
      "   <tr>\n",
      "    <td>\n",
      "     <span class=\"listheader\">\n",
      "      Harry S. Truman\n",
      "     </span>\n",
      "    </td>\n",
      "    <td>\n",
      "     <a href=\"../20th_century/truman.asp\">\n",
      "      1949\n",
      "     </a>\n",
      "    </td>\n",
      "   </tr>\n",
      "   <tr>\n",
      "    <td>\n",
      "     <span class=\"listheader\">\n",
      "      Dwight D. Eisenhower\n",
      "     </span>\n",
      "    </td>\n",
      "    <td>\n",
      "     <a href=\"../20th_century/eisen1.asp\">\n",
      "      1953\n",
      "     </a>\n",
      "    </td>\n",
      "    <td>\n",
      "     <a href=\"../20th_century/eisen2.asp\">\n",
      "      1957\n",
      "     </a>\n",
      "    </td>\n",
      "   </tr>\n",
      "   <tr>\n",
      "    <td>\n",
      "     <span class=\"listheader\">\n",
      "      John F. Kennedy\n",
      "     </span>\n",
      "    </td>\n",
      "    <td>\n",
      "     <a href=\"../20th_century/kennedy.asp\">\n",
      "      1961\n",
      "     </a>\n",
      "    </td>\n",
      "   </tr>\n",
      "   <tr>\n",
      "    <td>\n",
      "     <span class=\"listheader\">\n",
      "      Lyndon Baines Johnson\n",
      "     </span>\n",
      "    </td>\n",
      "    <td>\n",
      "     <a href=\"../20th_century/johnson.asp\">\n",
      "      1965\n",
      "     </a>\n",
      "    </td>\n",
      "   </tr>\n",
      "   <tr>\n",
      "    <td>\n",
      "     <span class=\"listheader\">\n",
      "      Richard Milhous Nixon\n",
      "     </span>\n",
      "    </td>\n",
      "    <td>\n",
      "     <a href=\"../20th_century/nixon1.asp\">\n",
      "      1969\n",
      "     </a>\n",
      "    </td>\n",
      "    <td>\n",
      "     <a href=\"../20th_century/nixon2.asp\">\n",
      "      1973\n",
      "     </a>\n",
      "    </td>\n",
      "   </tr>\n",
      "   <tr>\n",
      "    <td>\n",
      "     <span class=\"listheader\">\n",
      "      Jimmy Carter\n",
      "     </span>\n",
      "    </td>\n",
      "    <td>\n",
      "     <a href=\"../20th_century/carter.asp\">\n",
      "      1977\n",
      "     </a>\n",
      "    </td>\n",
      "   </tr>\n",
      "   <tr>\n",
      "    <td>\n",
      "     <span class=\"listheader\">\n",
      "      Ronald Reagan\n",
      "     </span>\n",
      "    </td>\n",
      "    <td>\n",
      "     <a href=\"../20th_century/reagan1.asp\">\n",
      "      1981\n",
      "     </a>\n",
      "    </td>\n",
      "    <td>\n",
      "     <a href=\"../20th_century/reagan2.asp\">\n",
      "      1985\n",
      "     </a>\n",
      "    </td>\n",
      "   </tr>\n",
      "   <tr>\n",
      "    <td>\n",
      "     <span class=\"listheader\">\n",
      "      George Bush\n",
      "     </span>\n",
      "    </td>\n",
      "    <td>\n",
      "     <a href=\"../20th_century/bush.asp\">\n",
      "      1989\n",
      "     </a>\n",
      "    </td>\n",
      "   </tr>\n",
      "   <tr>\n",
      "    <td>\n",
      "     <span class=\"listheader\">\n",
      "      William Clinton\n",
      "     </span>\n",
      "    </td>\n",
      "    <td>\n",
      "     <a href=\"../20th_century/clinton1.asp\">\n",
      "      1993\n",
      "     </a>\n",
      "    </td>\n",
      "    <td>\n",
      "     <a href=\"../20th_century/clinton2.asp\">\n",
      "      1997\n",
      "     </a>\n",
      "    </td>\n",
      "   </tr>\n",
      "   <tr>\n",
      "    <td>\n",
      "     <span class=\"listheader\">\n",
      "      George W. Bush\n",
      "     </span>\n",
      "    </td>\n",
      "    <td>\n",
      "     <a href=\"../21st_century/gbush1.asp\">\n",
      "      2001\n",
      "     </a>\n",
      "    </td>\n",
      "    <td>\n",
      "     <a href=\"../21st_century/gbush2.asp\">\n",
      "      2005\n",
      "     </a>\n",
      "    </td>\n",
      "   </tr>\n",
      "   <td>\n",
      "    <span class=\"listheader\">\n",
      "     Barack Obama\n",
      "    </span>\n",
      "   </td>\n",
      "   <td>\n",
      "    <a href=\"../21st_century/obama.asp\">\n",
      "     2009\n",
      "    </a>\n",
      "   </td>\n",
      "  </table>\n",
      " </div>\n",
      " <br>\n",
      "  <div align=\"center\">\n",
      "   <table border=\"1\" cellpadding=\"5\" class=\"page-menu\">\n",
      "    <tr>\n",
      "     <td align=\"center\">\n",
      "      <a href=\"../subject_menus/major.asp\">\n",
      "       Document Collections\n",
      "      </a>\n",
      "     </td>\n",
      "    </tr>\n",
      "   </table>\n",
      "  </div>\n",
      "  <div align=\"center\">\n",
      "   <table border=\"1\" cellpadding=\"5\" class=\"site-menu\">\n",
      "    <tr>\n",
      "     <td>\n",
      "      <a href=\"../default.asp\">\n",
      "       Avalon Home\n",
      "      </a>\n",
      "     </td>\n",
      "     <td>\n",
      "      <a href=\"../subject_menus/major.asp\">\n",
      "       Document\n",
      "       <br>\n",
      "        Collections\n",
      "       </br>\n",
      "      </a>\n",
      "     </td>\n",
      "     <td>\n",
      "      <a href=\"../subject_menus/ancient.asp\">\n",
      "       Ancient\n",
      "       <br>\n",
      "        4000bce - 399\n",
      "       </br>\n",
      "      </a>\n",
      "     </td>\n",
      "     <td>\n",
      "      <a href=\"../subject_menus/medieval.asp\">\n",
      "       Medieval\n",
      "       <br>\n",
      "        400 - 1399\n",
      "       </br>\n",
      "      </a>\n",
      "     </td>\n",
      "     <td>\n",
      "      <a href=\"../subject_menus/15th.asp\">\n",
      "       15\n",
      "       <sup>\n",
      "        th\n",
      "       </sup>\n",
      "       Century\n",
      "       <br>\n",
      "        1400 - 1499\n",
      "       </br>\n",
      "      </a>\n",
      "     </td>\n",
      "     <td>\n",
      "      <a href=\"../subject_menus/16th.asp\">\n",
      "       16\n",
      "       <sup>\n",
      "        th\n",
      "       </sup>\n",
      "       Century\n",
      "       <br>\n",
      "        1500 - 1599\n",
      "       </br>\n",
      "      </a>\n",
      "     </td>\n",
      "     <td>\n",
      "      <a href=\"../subject_menus/17th.asp\">\n",
      "       17\n",
      "       <sup>\n",
      "        th\n",
      "       </sup>\n",
      "       Century\n",
      "       <br>\n",
      "        1600 - 1699\n",
      "       </br>\n",
      "      </a>\n",
      "     </td>\n",
      "     <td>\n",
      "      <a href=\"../subject_menus/18th.asp\">\n",
      "       18\n",
      "       <sup>\n",
      "        th\n",
      "       </sup>\n",
      "       Century\n",
      "       <br>\n",
      "        1700 - 1799\n",
      "       </br>\n",
      "      </a>\n",
      "     </td>\n",
      "     <td>\n",
      "      <a href=\"../subject_menus/19th.asp\">\n",
      "       19\n",
      "       <sup>\n",
      "        th\n",
      "       </sup>\n",
      "       Century\n",
      "       <br>\n",
      "        1800 - 1899\n",
      "       </br>\n",
      "      </a>\n",
      "     </td>\n",
      "     <td>\n",
      "      <a href=\"../subject_menus/20th.asp\">\n",
      "       20\n",
      "       <sup>\n",
      "        th\n",
      "       </sup>\n",
      "       Century\n",
      "       <br>\n",
      "        1900 - 1999\n",
      "       </br>\n",
      "      </a>\n",
      "     </td>\n",
      "     <td>\n",
      "      <a href=\"../subject_menus/21st.asp\">\n",
      "       21\n",
      "       <sup>\n",
      "        st\n",
      "       </sup>\n",
      "       Century\n",
      "       <br>\n",
      "        2000 -\n",
      "       </br>\n",
      "      </a>\n",
      "     </td>\n",
      "    </tr>\n",
      "   </table>\n",
      "  </div>\n",
      " </br>\n",
      "</div>\n",
      "<div class=\"FooterContainer\" id=\"ContainerDefaults\">\n",
      " <div class=\"Copyright\">\n",
      "  © 2008 Lillian Goldman Law Library\n",
      " </div>\n",
      " <div class=\"ContactInfo\">\n",
      "  127 Wall Street, New Haven, CT 06511.\n",
      " </div>\n",
      " <ul class=\"NavBottom\">\n",
      "  <li>\n",
      "   <a href=\"about/purpose.asp\">\n",
      "    Avalon Statement of Purpose\n",
      "   </a>\n",
      "  </li>\n",
      "  <li>\n",
      "   <a href=\"http://www.law.yale.edu/library/3312.asp\">\n",
      "    Contact Us\n",
      "   </a>\n",
      "  </li>\n",
      "  <li>\n",
      "   <a href=\"http://library.law.yale.edu\" target=\"_blank\">\n",
      "    Yale Law Library\n",
      "   </a>\n",
      "  </li>\n",
      "  <li>\n",
      "   <a href=\"http://www.library.yale.edu/\" target=\"_blank\">\n",
      "    University Library\n",
      "   </a>\n",
      "  </li>\n",
      "  <li>\n",
      "   <a href=\"http://www.law.yale.edu\" target=\"_blank\">\n",
      "    Yale Law School\n",
      "   </a>\n",
      "  </li>\n",
      "  <li>\n",
      "   <a href=\"http://morris.law.yale.edu/\">\n",
      "    Search Morris\n",
      "   </a>\n",
      "  </li>\n",
      "  <li>\n",
      "   <a href=\"http://orbis.library.yale.edu/\" target=\"_blank\">\n",
      "    Search Orbis\n",
      "   </a>\n",
      "  </li>\n",
      " </ul>\n",
      "</div>\n",
      "\n"
     ]
    }
   ],
   "source": [
    "page = requests.get(\"http://avalon.law.yale.edu/subject_menus/inaug.asp\")\n",
    "soup = BeautifulSoup(page.content, 'html.parser')\n",
    "print(soup.prettify())"
   ]
  },
  {
   "cell_type": "code",
   "execution_count": 27,
   "metadata": {
    "collapsed": false
   },
   "outputs": [
    {
     "data": {
      "text/plain": [
       "bs4.element.ResultSet"
      ]
     },
     "execution_count": 27,
     "metadata": {},
     "output_type": "execute_result"
    }
   ],
   "source": [
    "type(soup.find_all('a'))"
   ]
  },
  {
   "cell_type": "code",
   "execution_count": 28,
   "metadata": {
    "collapsed": true
   },
   "outputs": [],
   "source": [
    "link_obj = soup.find_all('a')\n",
    "links = []\n",
    "for link in link_obj:\n",
    "    links.append(str(link))"
   ]
  },
  {
   "cell_type": "code",
   "execution_count": 29,
   "metadata": {
    "collapsed": false
   },
   "outputs": [
    {
     "data": {
      "text/plain": [
       "['<a href=\"../default.asp\">Avalon Home</a>',\n",
       " '<a href=\"../subject_menus/major.asp\">Document<br> Collections</br></a>',\n",
       " '<a href=\"../subject_menus/ancient.asp\">Ancient <br>4000bce - 399</br></a>',\n",
       " '<a href=\"../subject_menus/medieval.asp\">Medieval <br>400 - 1399</br></a>',\n",
       " '<a href=\"../subject_menus/15th.asp\">15<sup>th</sup> Century <br>1400 - 1499</br></a>',\n",
       " '<a href=\"../subject_menus/16th.asp\">16<sup>th</sup> Century <br>1500 - 1599</br></a>',\n",
       " '<a href=\"../subject_menus/17th.asp\">17<sup>th</sup> Century <br>1600 - 1699</br></a>',\n",
       " '<a href=\"../subject_menus/18th.asp\">18<sup>th</sup> Century <br>1700 - 1799</br></a>',\n",
       " '<a href=\"../subject_menus/19th.asp\">19<sup>th</sup> Century <br>1800 - 1899</br></a>',\n",
       " '<a href=\"../subject_menus/20th.asp\">20<sup>th</sup> Century <br>1900 - 1999</br></a>',\n",
       " '<a href=\"../subject_menus/21st.asp\">21<sup>st</sup> Century <br>2000 - </br></a>',\n",
       " '<a href=\"../18th_century/wash1.asp\">1789</a>',\n",
       " '<a href=\"../18th_century/wash2.asp\">1793</a>',\n",
       " '<a href=\"../18th_century/adams.asp\">1797</a>',\n",
       " '<a href=\"../19th_century/jefinau1.asp\">1801</a>',\n",
       " '<a href=\"../19th_century/jefinau2.asp\">1805</a>',\n",
       " '<a href=\"../19th_century/madison1.asp\">1809</a>',\n",
       " '<a href=\"../19th_century/madison2.asp\">1813</a>',\n",
       " '<a href=\"../19th_century/monroe1.asp\">1817</a>',\n",
       " '<a href=\"../19th_century/monroe2.asp\">1821</a>',\n",
       " '<a href=\"../19th_century/qadams.asp\">1825</a>',\n",
       " '<a href=\"../19th_century/jackson1.asp\">1829</a>',\n",
       " '<a href=\"../19th_century/jackson2.asp\">1833</a>',\n",
       " '<a href=\"../19th_century/vanburen.asp\">1837</a>',\n",
       " '<a href=\"../19th_century/harrison.asp\">1841</a>',\n",
       " '<a href=\"../19th_century/polk.asp\">1845</a>',\n",
       " '<a href=\"../19th_century/taylor.asp\">1849</a>',\n",
       " '<a href=\"../19th_century/pierce.asp\">1853</a>',\n",
       " '<a href=\"../19th_century/buchanan.asp\">1857</a>',\n",
       " '<a href=\"../19th_century/lincoln1.asp\">1861</a>',\n",
       " '<a href=\"../19th_century/lincoln2.asp\">1865</a>',\n",
       " '<a href=\"../19th_century/grant1.asp\">1869</a>',\n",
       " '<a href=\"../19th_century/grant2.asp\">1873</a>',\n",
       " '<a href=\"../19th_century/hayes.asp\">1877</a>',\n",
       " '<a href=\"../19th_century/garfield.asp\">1881</a>',\n",
       " '<a href=\"../19th_century/cleve1.asp\">1885</a>',\n",
       " '<a href=\"../19th_century/cleve2.asp\">1893</a>',\n",
       " '<a href=\"../19th_century/harris.asp\">1889</a>',\n",
       " '<a href=\"../19th_century/mckin1.asp\">1897</a>',\n",
       " '<a href=\"../19th_century/mckin2.asp\">1901</a>',\n",
       " '<a href=\"../20th_century/troos.asp\">1905</a>',\n",
       " '<a href=\"../20th_century/taft.asp\">1909</a>',\n",
       " '<a href=\"../20th_century/wilson1.asp\">1913</a>',\n",
       " '<a href=\"../20th_century/wilson2.asp\">1917</a>',\n",
       " '<a href=\"../20th_century/harding.asp\">1921</a>',\n",
       " '<a href=\"../20th_century/coolidge.asp\">1925</a>',\n",
       " '<a href=\"../20th_century/hoover.asp\">1929</a>',\n",
       " '<a href=\"../20th_century/froos1.asp\">1933</a>',\n",
       " '<a href=\"../20th_century/froos2.asp\">1937</a>',\n",
       " '<a href=\"../20th_century/froos3.asp\">1941</a>',\n",
       " '<a href=\"../20th_century/froos4.asp\">1945</a>',\n",
       " '<a href=\"../20th_century/truman.asp\">1949</a>',\n",
       " '<a href=\"../20th_century/eisen1.asp\">1953</a>',\n",
       " '<a href=\"../20th_century/eisen2.asp\">1957</a>',\n",
       " '<a href=\"../20th_century/kennedy.asp\">1961</a>',\n",
       " '<a href=\"../20th_century/johnson.asp\">1965</a>',\n",
       " '<a href=\"../20th_century/nixon1.asp\">1969</a>',\n",
       " '<a href=\"../20th_century/nixon2.asp\">1973</a>',\n",
       " '<a href=\"../20th_century/carter.asp\">1977</a>',\n",
       " '<a href=\"../20th_century/reagan1.asp\">1981</a>',\n",
       " '<a href=\"../20th_century/reagan2.asp\">1985</a>',\n",
       " '<a href=\"../20th_century/bush.asp\">1989</a>',\n",
       " '<a href=\"../20th_century/clinton1.asp\">1993</a>',\n",
       " '<a href=\"../20th_century/clinton2.asp\">1997</a>',\n",
       " '<a href=\"../21st_century/gbush1.asp\">2001</a>',\n",
       " '<a href=\"../21st_century/gbush2.asp\">2005</a>',\n",
       " '<a href=\"../21st_century/obama.asp\">2009</a>',\n",
       " '<a href=\"../subject_menus/major.asp\">Document Collections</a>',\n",
       " '<a href=\"../default.asp\">Avalon Home</a>',\n",
       " '<a href=\"../subject_menus/major.asp\">Document<br> Collections</br></a>',\n",
       " '<a href=\"../subject_menus/ancient.asp\">Ancient <br>4000bce - 399</br></a>',\n",
       " '<a href=\"../subject_menus/medieval.asp\">Medieval <br>400 - 1399</br></a>',\n",
       " '<a href=\"../subject_menus/15th.asp\">15<sup>th</sup> Century <br>1400 - 1499</br></a>',\n",
       " '<a href=\"../subject_menus/16th.asp\">16<sup>th</sup> Century <br>1500 - 1599</br></a>',\n",
       " '<a href=\"../subject_menus/17th.asp\">17<sup>th</sup> Century <br>1600 - 1699</br></a>',\n",
       " '<a href=\"../subject_menus/18th.asp\">18<sup>th</sup> Century <br>1700 - 1799</br></a>',\n",
       " '<a href=\"../subject_menus/19th.asp\">19<sup>th</sup> Century <br>1800 - 1899</br></a>',\n",
       " '<a href=\"../subject_menus/20th.asp\">20<sup>th</sup> Century <br>1900 - 1999</br></a>',\n",
       " '<a href=\"../subject_menus/21st.asp\">21<sup>st</sup> Century <br>2000 - </br></a>',\n",
       " '<a href=\"about/purpose.asp\">Avalon Statement of Purpose</a>',\n",
       " '<a href=\"http://www.law.yale.edu/library/3312.asp\">Contact Us</a>',\n",
       " '<a href=\"http://library.law.yale.edu\" target=\"_blank\">Yale Law Library</a>',\n",
       " '<a href=\"http://www.library.yale.edu/\" target=\"_blank\">University Library</a>',\n",
       " '<a href=\"http://www.law.yale.edu\" target=\"_blank\">Yale Law School</a>',\n",
       " '<a href=\"http://morris.law.yale.edu/\">Search Morris</a>',\n",
       " '<a href=\"http://orbis.library.yale.edu/\" target=\"_blank\">Search Orbis</a>']"
      ]
     },
     "execution_count": 29,
     "metadata": {},
     "output_type": "execute_result"
    }
   ],
   "source": [
    "links"
   ]
  },
  {
   "cell_type": "code",
   "execution_count": 36,
   "metadata": {
    "collapsed": true
   },
   "outputs": [],
   "source": [
    "speech_html = []\n",
    "num_re = re.compile(\"(?<=>)[0-9]{4}(?=<)\")\n",
    "for item in links:\n",
    "    if num_re.findall(str(item)):\n",
    "        speech_html.append(item)"
   ]
  },
  {
   "cell_type": "code",
   "execution_count": 37,
   "metadata": {
    "collapsed": false
   },
   "outputs": [
    {
     "data": {
      "text/plain": [
       "['<a href=\"../18th_century/wash1.asp\">1789</a>',\n",
       " '<a href=\"../18th_century/wash2.asp\">1793</a>',\n",
       " '<a href=\"../18th_century/adams.asp\">1797</a>',\n",
       " '<a href=\"../19th_century/jefinau1.asp\">1801</a>',\n",
       " '<a href=\"../19th_century/jefinau2.asp\">1805</a>',\n",
       " '<a href=\"../19th_century/madison1.asp\">1809</a>',\n",
       " '<a href=\"../19th_century/madison2.asp\">1813</a>',\n",
       " '<a href=\"../19th_century/monroe1.asp\">1817</a>',\n",
       " '<a href=\"../19th_century/monroe2.asp\">1821</a>',\n",
       " '<a href=\"../19th_century/qadams.asp\">1825</a>',\n",
       " '<a href=\"../19th_century/jackson1.asp\">1829</a>',\n",
       " '<a href=\"../19th_century/jackson2.asp\">1833</a>',\n",
       " '<a href=\"../19th_century/vanburen.asp\">1837</a>',\n",
       " '<a href=\"../19th_century/harrison.asp\">1841</a>',\n",
       " '<a href=\"../19th_century/polk.asp\">1845</a>',\n",
       " '<a href=\"../19th_century/taylor.asp\">1849</a>',\n",
       " '<a href=\"../19th_century/pierce.asp\">1853</a>',\n",
       " '<a href=\"../19th_century/buchanan.asp\">1857</a>',\n",
       " '<a href=\"../19th_century/lincoln1.asp\">1861</a>',\n",
       " '<a href=\"../19th_century/lincoln2.asp\">1865</a>',\n",
       " '<a href=\"../19th_century/grant1.asp\">1869</a>',\n",
       " '<a href=\"../19th_century/grant2.asp\">1873</a>',\n",
       " '<a href=\"../19th_century/hayes.asp\">1877</a>',\n",
       " '<a href=\"../19th_century/garfield.asp\">1881</a>',\n",
       " '<a href=\"../19th_century/cleve1.asp\">1885</a>',\n",
       " '<a href=\"../19th_century/cleve2.asp\">1893</a>',\n",
       " '<a href=\"../19th_century/harris.asp\">1889</a>',\n",
       " '<a href=\"../19th_century/mckin1.asp\">1897</a>',\n",
       " '<a href=\"../19th_century/mckin2.asp\">1901</a>',\n",
       " '<a href=\"../20th_century/troos.asp\">1905</a>',\n",
       " '<a href=\"../20th_century/taft.asp\">1909</a>',\n",
       " '<a href=\"../20th_century/wilson1.asp\">1913</a>',\n",
       " '<a href=\"../20th_century/wilson2.asp\">1917</a>',\n",
       " '<a href=\"../20th_century/harding.asp\">1921</a>',\n",
       " '<a href=\"../20th_century/coolidge.asp\">1925</a>',\n",
       " '<a href=\"../20th_century/hoover.asp\">1929</a>',\n",
       " '<a href=\"../20th_century/froos1.asp\">1933</a>',\n",
       " '<a href=\"../20th_century/froos2.asp\">1937</a>',\n",
       " '<a href=\"../20th_century/froos3.asp\">1941</a>',\n",
       " '<a href=\"../20th_century/froos4.asp\">1945</a>',\n",
       " '<a href=\"../20th_century/truman.asp\">1949</a>',\n",
       " '<a href=\"../20th_century/eisen1.asp\">1953</a>',\n",
       " '<a href=\"../20th_century/eisen2.asp\">1957</a>',\n",
       " '<a href=\"../20th_century/kennedy.asp\">1961</a>',\n",
       " '<a href=\"../20th_century/johnson.asp\">1965</a>',\n",
       " '<a href=\"../20th_century/nixon1.asp\">1969</a>',\n",
       " '<a href=\"../20th_century/nixon2.asp\">1973</a>',\n",
       " '<a href=\"../20th_century/carter.asp\">1977</a>',\n",
       " '<a href=\"../20th_century/reagan1.asp\">1981</a>',\n",
       " '<a href=\"../20th_century/reagan2.asp\">1985</a>',\n",
       " '<a href=\"../20th_century/bush.asp\">1989</a>',\n",
       " '<a href=\"../20th_century/clinton1.asp\">1993</a>',\n",
       " '<a href=\"../20th_century/clinton2.asp\">1997</a>',\n",
       " '<a href=\"../21st_century/gbush1.asp\">2001</a>',\n",
       " '<a href=\"../21st_century/gbush2.asp\">2005</a>',\n",
       " '<a href=\"../21st_century/obama.asp\">2009</a>']"
      ]
     },
     "execution_count": 37,
     "metadata": {},
     "output_type": "execute_result"
    }
   ],
   "source": [
    "speech_html"
   ]
  },
  {
   "cell_type": "code",
   "execution_count": 51,
   "metadata": {
    "collapsed": false
   },
   "outputs": [],
   "source": [
    "all_links = []\n",
    "link_re = re.compile(\"(?<=\\.\\.).*\\.asp\")\n",
    "for item in speech_html:\n",
    "    if link_re.findall(str(item)):\n",
    "        all_links.append(link_re.findall(str(item))[0])"
   ]
  },
  {
   "cell_type": "code",
   "execution_count": 52,
   "metadata": {
    "collapsed": false
   },
   "outputs": [
    {
     "name": "stdout",
     "output_type": "stream",
     "text": [
      "/19th_century/vanburen.asp\n",
      "/19th_century/buchanan.asp\n",
      "/19th_century/garfield.asp\n",
      "/20th_century/coolidge.asp\n"
     ]
    }
   ],
   "source": [
    "speech_links = []\n",
    "for item in all_links:\n",
    "    url = \"http://avalon.law.yale.edu/\" + item\n",
    "    page = requests.get(url)\n",
    "    if (page.status_code == 404):\n",
    "        print(item)\n",
    "    else:\n",
    "        speech_links.append(url)"
   ]
  },
  {
   "cell_type": "markdown",
   "metadata": {
    "collapsed": true
   },
   "source": [
    "So now I know that in addition to the two most recent inaugural speeches, I should also find another source for the inaugural speeches of Presidents van Buren, Buchanan, Garfield, and Coolidge."
   ]
  },
  {
   "cell_type": "code",
   "execution_count": 76,
   "metadata": {
    "collapsed": false
   },
   "outputs": [
    {
     "name": "stdout",
     "output_type": "stream",
     "text": [
      "12.191415307971013\n",
      "16.88399659863946\n",
      "11.528613925541944\n",
      "16.220522119341567\n",
      "9.94323179210339\n",
      "4.76642857142857\n",
      "2.27267879813796\n"
     ]
    },
    {
     "ename": "ZeroDivisionError",
     "evalue": "division by zero",
     "output_type": "error",
     "traceback": [
      "\u001b[0;31m---------------------------------------------------------------------------\u001b[0m",
      "\u001b[0;31mZeroDivisionError\u001b[0m                         Traceback (most recent call last)",
      "\u001b[0;32m<ipython-input-76-20e8ac11b223>\u001b[0m in \u001b[0;36m<module>\u001b[0;34m()\u001b[0m\n\u001b[1;32m      1\u001b[0m \u001b[0;32mfor\u001b[0m \u001b[0mlink\u001b[0m \u001b[0;32min\u001b[0m \u001b[0mspeech_links\u001b[0m\u001b[0;34m:\u001b[0m\u001b[0;34m\u001b[0m\u001b[0m\n\u001b[1;32m      2\u001b[0m     \u001b[0mtext\u001b[0m \u001b[0;34m=\u001b[0m \u001b[0mcombo\u001b[0m\u001b[0;34m(\u001b[0m\u001b[0mlink\u001b[0m\u001b[0;34m)\u001b[0m\u001b[0;34m\u001b[0m\u001b[0m\n\u001b[0;32m----> 3\u001b[0;31m     \u001b[0mprint\u001b[0m\u001b[0;34m(\u001b[0m\u001b[0mflesch_grade\u001b[0m\u001b[0;34m(\u001b[0m\u001b[0mtext\u001b[0m\u001b[0;34m)\u001b[0m\u001b[0;34m)\u001b[0m\u001b[0;34m\u001b[0m\u001b[0m\n\u001b[0m",
      "\u001b[0;32m<ipython-input-23-8f68f0e70c6b>\u001b[0m in \u001b[0;36mflesch_grade\u001b[0;34m(text)\u001b[0m\n\u001b[1;32m      3\u001b[0m     \u001b[0mnum_sentences\u001b[0m \u001b[0;34m=\u001b[0m \u001b[0mlen\u001b[0m\u001b[0;34m(\u001b[0m\u001b[0mnltk\u001b[0m\u001b[0;34m.\u001b[0m\u001b[0msent_tokenize\u001b[0m\u001b[0;34m(\u001b[0m\u001b[0mtext\u001b[0m\u001b[0;34m)\u001b[0m\u001b[0;34m)\u001b[0m\u001b[0;34m\u001b[0m\u001b[0m\n\u001b[1;32m      4\u001b[0m     \u001b[0mnum_syllables\u001b[0m \u001b[0;34m=\u001b[0m \u001b[0mint\u001b[0m\u001b[0;34m(\u001b[0m\u001b[0mtextstat\u001b[0m\u001b[0;34m.\u001b[0m\u001b[0msyllable_count\u001b[0m\u001b[0;34m(\u001b[0m\u001b[0mwash1\u001b[0m\u001b[0;34m)\u001b[0m\u001b[0;34m)\u001b[0m \u001b[0;34m+\u001b[0m \u001b[0;36m1\u001b[0m\u001b[0;34m\u001b[0m\u001b[0m\n\u001b[0;32m----> 5\u001b[0;31m     \u001b[0;32mreturn\u001b[0m \u001b[0;36m0.39\u001b[0m \u001b[0;34m*\u001b[0m \u001b[0;34m(\u001b[0m\u001b[0mnum_words\u001b[0m\u001b[0;34m/\u001b[0m\u001b[0mnum_sentences\u001b[0m\u001b[0;34m)\u001b[0m \u001b[0;34m+\u001b[0m \u001b[0;36m11.8\u001b[0m \u001b[0;34m*\u001b[0m \u001b[0;34m(\u001b[0m\u001b[0mnum_syllables\u001b[0m\u001b[0;34m/\u001b[0m\u001b[0mnum_words\u001b[0m\u001b[0;34m)\u001b[0m \u001b[0;34m-\u001b[0m \u001b[0;36m15.59\u001b[0m\u001b[0;34m\u001b[0m\u001b[0m\n\u001b[0m",
      "\u001b[0;31mZeroDivisionError\u001b[0m: division by zero"
     ]
    }
   ],
   "source": [
    "for link in speech_links:\n",
    "    text = combo(link)\n",
    "    print(flesch_grade(text))"
   ]
  },
  {
   "cell_type": "code",
   "execution_count": 80,
   "metadata": {
    "collapsed": false
   },
   "outputs": [
    {
     "data": {
      "text/plain": [
       "16.88399659863946"
      ]
     },
     "execution_count": 80,
     "metadata": {},
     "output_type": "execute_result"
    }
   ],
   "source": [
    "flesch_grade(combo(speech_links[1]))"
   ]
  },
  {
   "cell_type": "code",
   "execution_count": 86,
   "metadata": {
    "collapsed": false
   },
   "outputs": [
    {
     "data": {
      "text/plain": [
       "19.0"
      ]
     },
     "execution_count": 86,
     "metadata": {},
     "output_type": "execute_result"
    }
   ],
   "source": [
    "textstat.flesch_kincaid_grade(combo(speech_links[5]))"
   ]
  },
  {
   "cell_type": "code",
   "execution_count": 87,
   "metadata": {
    "collapsed": false
   },
   "outputs": [
    {
     "data": {
      "text/plain": [
       "'Avalon Home Document Collections Ancient 4000bce - 399 Medieval 400 - 1399 15 th Century 1400 - 1499 16 th Century 1500 - 1599 17 th Century 1600 - 1699 18 th Century 1700 - 1799 19 th Century 1800 - 1899 20 th Century 1900 - 1999 21 st Century 2000 - The Avalon Project at Yale Law School James Madison&#8217;s First Inaugural Address First Inaugural Address March 4, 1813 About to add the solemnity of an oath to the obligations imposed by a second call to the station in which my country heretofore placed me, I find in the presence of this respectable assembly an opportunity of publicly repeating my profound sense of so distinguished a confidence and of the responsibility united with it. The impressions on me are strengthened by such an evidence that my faithful endeavors to discharge my arduous duties have been favorably estimated, and by a consideration of the momentous period at which the trust has been renewed. From the weight and magnitude now belonging to it I should be compelled to shrink if I had less reliance on the support of an enlightened and generous people, and felt less deeply a conviction that the war with a powerful nation, which forms so prominent a feature in our situation, is stamped with that justice which invites the smiles of Heaven on the means of conducting it to a successful termination. May we not cherish this sentiment without presumption when we reflect on the characters by which this war is distinguished? It was not declared on the part of the United States until it had been long made on them, in reality though not in name; until arguments and postulations had been exhausted; until a positive declaration had been received that the wrongs provoking it would not be discontinued; nor until this last appeal could no longer be delayed without breaking down the spirit of the nation, destroying all confidence in itself and in its political institutions, and either perpetuating a state of disgraceful suffering or regaining by more costly sacrifices and more severe struggles our lost rank and respect among independent powers. On the issue of the war are staked our national sovereignty on the high seas and the security of an important class of citizens, whose occupations give the proper value to those of every other class. Not to contend for such a stake is to surrender our equality with other powers on the element common to all and to violate the sacred title which every member of the society has to its protection. I need not call into view the unlawfulness of the practice by which our mariners are forced at the will of every cruising officer from their own vessels into foreign ones, nor paint the outrages inseparable from it. The proofs are in the records of each successive Administration of our Government, and the cruel sufferings of that portion of the American people have found their way to every bosom not dead to the sympathies of human nature. As the war was just in its origin and necessary and noble in its objects, we can reflect with a proud satisfaction that in carrying it on no principle of justice or honor, no usage of civilized nations, no precept of courtesy or humanity, have been infringed. The war has been waged on our part with scrupulous regard to all these obligations, and in a spirit of liberality which was never surpassed. How little has been the effect of this example on the conduct of the enemy! They have retained as prisoners of war citizens of the United States not liable to be so considered under the usages of war. They have refused to consider as prisoners of war, and threatened to punish as traitors and deserters, persons emigrating without restraint to the United States, incorporated by naturalization into our political family, and fighting under the authority of their adopted country in open and honorable war for the maintenance of its rights and safety. Such is the avowed purpose of a Government which is in the practice of naturalizing by thousands citizens of other countries, and not only of permitting but compelling them to fight its battles against their native country. They have not, it is true, taken into their own hands the hatchet and the knife, devoted to indiscriminate massacre, but they have let loose the savages armed with these cruel instruments; have allured them into their service, and carried them to battle by their sides, eager to glut their savage thirst with the blood of the vanquished and to finish the work of torture and death on maimed and defenseless captives. And, what was never before seen, British commanders have extorted victory over the unconquerable valor of our troops by presenting to the sympathy of their chief captives awaiting massacre from their savage associates. And now we find them, in further contempt of the modes of honorable warfare, supplying the place of a conquering force by attempts to disorganize our political society, to dismember our confederated Republic. Happily, like others, these will recoil on the authors; but they mark the degenerate counsels from which they emanate, and if they did not belong to a sense of unexampled inconsistencies might excite the greater wonder as proceeding from a Government which founded the very war in which it has been so long engaged on a charge against the disorganizing and insurrectional policy of its adversary. To render the justice of the war on our part the more conspicuous, the reluctance to commence it was followed by the earliest and strongest manifestations of a disposition to arrest its progress. The sword was scarcely out of the scabbard before the enemy was apprised of the reasonable terms on which it would be resheathed. Still more precise advances were repeated, and have been received in a spirit forbidding every reliance not placed on the military resources of the nation. These resources are amply sufficient to bring the war to an honorable issue. Our nation is in number more than half that of the British Isles. It is composed of a brave, a free, a virtuous, and an intelligent people. Our country abounds in the necessaries, the arts, and the comforts of life. A general prosperity is visible in the public countenance. The means employed by the British cabinet to undermine it have recoiled on themselves; have given to our national faculties a more rapid development, and, draining or diverting the precious metals from British circulation and British vaults, have poured them into those of the United States. It is a propitious consideration that an unavoidable war should have found this seasonable facility for the contributions required to support it. When the public voice called for war, all knew, and still know, that without them it could not be carried on through the period which it might last, and the patriotism, the good sense, and the manly spirit of our fellow-citizens are pledges for the cheerfulness with which they will bear each his share of the common burden. To render the war short and its success sure, animated and systematic exertions alone are necessary, and the success of our arms now may long preserve our country from the necessity of another resort to them. Already have the gallant exploits of our naval heroes proved to the world our inherent capacity to maintain our rights on one element. If the reputation of our arms has been thrown under clouds on the other, presaging flashes of heroic enterprise assure us that nothing is wanting to correspondent triumphs there also but the discipline and habits which are in daily progress. From: http://www.inaugural.senate.gov/swearing-in/address/address-by-james-madison&#8211;1813 '"
      ]
     },
     "execution_count": 87,
     "metadata": {},
     "output_type": "execute_result"
    }
   ],
   "source": [
    "combo(speech_links[6])"
   ]
  },
  {
   "cell_type": "code",
   "execution_count": 91,
   "metadata": {
    "collapsed": false
   },
   "outputs": [
    {
     "data": {
      "text/plain": [
       "17.6"
      ]
     },
     "execution_count": 91,
     "metadata": {},
     "output_type": "execute_result"
    }
   ],
   "source": [
    "my_text = \"About to add the solemnity of an oath to the obligations imposed by a second call to the station in which my country heretofore placed me, I find in the presence of this respectable assembly an opportunity of publicly repeating my profound sense of so distinguished a confidence and of the responsibility united with it. The impressions on me are strengthened by such an evidence that my faithful endeavors to discharge my arduous duties have been favorably estimated, and by a consideration of the momentous period at which the trust has been renewed. From the weight and magnitude now belonging to it I should be compelled to shrink if I had less reliance on the support of an enlightened and generous people, and felt less deeply a conviction that the war with a powerful nation, which forms so prominent a feature in our situation, is stamped with that justice which invites the smiles of Heaven on the means of conducting it to a successful termination. May we not cherish this sentiment without presumption when we reflect on the characters by which this war is distinguished? It was not declared on the part of the United States until it had been long made on them, in reality though not in name; until arguments and postulations had been exhausted; until a positive declaration had been received that the wrongs provoking it would not be discontinued; nor until this last appeal could no longer be delayed without breaking down the spirit of the nation, destroying all confidence in itself and in its political institutions, and either perpetuating a state of disgraceful suffering or regaining by more costly sacrifices and more severe struggles our lost rank and respect among independent powers. On the issue of the war are staked our national sovereignty on the high seas and the security of an important class of citizens, whose occupations give the proper value to those of every other class. Not to contend for such a stake is to surrender our equality with other powers on the element common to all and to violate the sacred title which every member of the society has to its protection. I need not call into view the unlawfulness of the practice by which our mariners are forced at the will of every cruising officer from their own vessels into foreign ones, nor paint the outrages inseparable from it. The proofs are in the records of each successive Administration of our Government, and the cruel sufferings of that portion of the American people have found their way to every bosom not dead to the sympathies of human nature. As the war was just in its origin and necessary and noble in its objects, we can reflect with a proud satisfaction that in carrying it on no principle of justice or honor, no usage of civilized nations, no precept of courtesy or humanity, have been infringed. The war has been waged on our part with scrupulous regard to all these obligations, and in a spirit of liberality which was never surpassed. How little has been the effect of this example on the conduct of the enemy! They have retained as prisoners of war citizens of the United States not liable to be so considered under the usages of war. They have refused to consider as prisoners of war, and threatened to punish as traitors and deserters, persons emigrating without restraint to the United States, incorporated by naturalization into our political family, and fighting under the authority of their adopted country in open and honorable war for the maintenance of its rights and safety. Such is the avowed purpose of a Government which is in the practice of naturalizing by thousands citizens of other countries, and not only of permitting but compelling them to fight its battles against their native country. They have not, it is true, taken into their own hands the hatchet and the knife, devoted to indiscriminate massacre, but they have let loose the savages armed with these cruel instruments; have allured them into their service, and carried them to battle by their sides, eager to glut their savage thirst with the blood of the vanquished and to finish the work of torture and death on maimed and defenseless captives. And, what was never before seen, British commanders have extorted victory over the unconquerable valor of our troops by presenting to the sympathy of their chief captives awaiting massacre from their savage associates. And now we find them, in further contempt of the modes of honorable warfare, supplying the place of a conquering force by attempts to disorganize our political society, to dismember our confederated Republic. Happily, like others, these will recoil on the authors; but they mark the degenerate counsels from which they emanate, and if they did not belong to a sense of unexampled inconsistencies might excite the greater wonder as proceeding from a Government which founded the very war in which it has been so long engaged on a charge against the disorganizing and insurrectional policy of its adversary. To render the justice of the war on our part the more conspicuous, the reluctance to commence it was followed by the earliest and strongest manifestations of a disposition to arrest its progress. The sword was scarcely out of the scabbard before the enemy was apprised of the reasonable terms on which it would be resheathed. Still more precise advances were repeated, and have been received in a spirit forbidding every reliance not placed on the military resources of the nation. These resources are amply sufficient to bring the war to an honorable issue. Our nation is in number more than half that of the British Isles. It is composed of a brave, a free, a virtuous, and an intelligent people. Our country abounds in the necessaries, the arts, and the comforts of life. A general prosperity is visible in the public countenance. The means employed by the British cabinet to undermine it have recoiled on themselves; have given to our national faculties a more rapid development, and, draining or diverting the precious metals from British circulation and British vaults, have poured them into those of the United States. It is a propitious consideration that an unavoidable war should have found this seasonable facility for the contributions required to support it. When the public voice called for war, all knew, and still know, that without them it could not be carried on through the period which it might last, and the patriotism, the good sense, and the manly spirit of our fellow-citizens are pledges for the cheerfulness with which they will bear each his share of the common burden. To render the war short and its success sure, animated and systematic exertions alone are necessary, and the success of our arms now may long preserve our country from the necessity of another resort to them. Already have the gallant exploits of our naval heroes proved to the world our inherent capacity to maintain our rights on one element. If the reputation of our arms has been thrown under clouds on the other, presaging flashes of heroic enterprise assure us that nothing is wanting to correspondent triumphs there also but the discipline and habits which are in daily progress.\" \n",
    "textstat.flesch_kincaid_grade(my_text)"
   ]
  },
  {
   "cell_type": "code",
   "execution_count": 107,
   "metadata": {
    "collapsed": false
   },
   "outputs": [],
   "source": [
    "def url_to_grade(url):\n",
    "    return textstat.flesch_kincaid_grade(generate_text(pull_text(url)))"
   ]
  },
  {
   "cell_type": "code",
   "execution_count": 108,
   "metadata": {
    "collapsed": false
   },
   "outputs": [
    {
     "name": "stdout",
     "output_type": "stream",
     "text": [
      "Error(ASyPW): Number of words are zero, cannot divide\n"
     ]
    },
    {
     "ename": "TypeError",
     "evalue": "unsupported operand type(s) for *: 'float' and 'NoneType'",
     "output_type": "error",
     "traceback": [
      "\u001b[0;31m---------------------------------------------------------------------------\u001b[0m",
      "\u001b[0;31mTypeError\u001b[0m                                 Traceback (most recent call last)",
      "\u001b[0;32m<ipython-input-108-c165760420ea>\u001b[0m in \u001b[0;36m<module>\u001b[0;34m()\u001b[0m\n\u001b[1;32m      1\u001b[0m \u001b[0;32mfor\u001b[0m \u001b[0mlink\u001b[0m \u001b[0;32min\u001b[0m \u001b[0mspeech_links\u001b[0m\u001b[0;34m:\u001b[0m\u001b[0;34m\u001b[0m\u001b[0m\n\u001b[0;32m----> 2\u001b[0;31m     \u001b[0murl_to_grade\u001b[0m\u001b[0;34m(\u001b[0m\u001b[0mlink\u001b[0m\u001b[0;34m)\u001b[0m\u001b[0;34m\u001b[0m\u001b[0m\n\u001b[0m",
      "\u001b[0;32m<ipython-input-107-cfa513ba068f>\u001b[0m in \u001b[0;36murl_to_grade\u001b[0;34m(url)\u001b[0m\n\u001b[1;32m      1\u001b[0m \u001b[0;32mdef\u001b[0m \u001b[0murl_to_grade\u001b[0m\u001b[0;34m(\u001b[0m\u001b[0murl\u001b[0m\u001b[0;34m)\u001b[0m\u001b[0;34m:\u001b[0m\u001b[0;34m\u001b[0m\u001b[0m\n\u001b[0;32m----> 2\u001b[0;31m     \u001b[0;32mreturn\u001b[0m \u001b[0mtextstat\u001b[0m\u001b[0;34m.\u001b[0m\u001b[0mflesch_kincaid_grade\u001b[0m\u001b[0;34m(\u001b[0m\u001b[0mgenerate_text\u001b[0m\u001b[0;34m(\u001b[0m\u001b[0mpull_text\u001b[0m\u001b[0;34m(\u001b[0m\u001b[0murl\u001b[0m\u001b[0;34m)\u001b[0m\u001b[0;34m)\u001b[0m\u001b[0;34m)\u001b[0m\u001b[0;34m\u001b[0m\u001b[0m\n\u001b[0m",
      "\u001b[0;32m/Users/divaharsoor/anaconda/lib/python3.5/site-packages/textstat/textstat.py\u001b[0m in \u001b[0;36mflesch_kincaid_grade\u001b[0;34m(self, text)\u001b[0m\n\u001b[1;32m    119\u001b[0m         \u001b[0mASL\u001b[0m \u001b[0;34m=\u001b[0m \u001b[0mself\u001b[0m\u001b[0;34m.\u001b[0m\u001b[0mavg_sentence_length\u001b[0m\u001b[0;34m(\u001b[0m\u001b[0mtext\u001b[0m\u001b[0;34m)\u001b[0m\u001b[0;34m\u001b[0m\u001b[0m\n\u001b[1;32m    120\u001b[0m         \u001b[0mASW\u001b[0m \u001b[0;34m=\u001b[0m \u001b[0mself\u001b[0m\u001b[0;34m.\u001b[0m\u001b[0mavg_syllables_per_word\u001b[0m\u001b[0;34m(\u001b[0m\u001b[0mtext\u001b[0m\u001b[0;34m)\u001b[0m\u001b[0;34m\u001b[0m\u001b[0m\n\u001b[0;32m--> 121\u001b[0;31m         \u001b[0mFKRA\u001b[0m \u001b[0;34m=\u001b[0m \u001b[0mfloat\u001b[0m\u001b[0;34m(\u001b[0m\u001b[0;36m0.39\u001b[0m \u001b[0;34m*\u001b[0m \u001b[0mASL\u001b[0m\u001b[0;34m)\u001b[0m \u001b[0;34m+\u001b[0m \u001b[0mfloat\u001b[0m\u001b[0;34m(\u001b[0m\u001b[0;36m11.8\u001b[0m \u001b[0;34m*\u001b[0m \u001b[0mASW\u001b[0m\u001b[0;34m)\u001b[0m \u001b[0;34m-\u001b[0m \u001b[0;36m15.59\u001b[0m\u001b[0;34m\u001b[0m\u001b[0m\n\u001b[0m\u001b[1;32m    122\u001b[0m         \u001b[0;32mreturn\u001b[0m \u001b[0mround\u001b[0m\u001b[0;34m(\u001b[0m\u001b[0mFKRA\u001b[0m\u001b[0;34m,\u001b[0m \u001b[0;36m1\u001b[0m\u001b[0;34m)\u001b[0m\u001b[0;34m\u001b[0m\u001b[0m\n\u001b[1;32m    123\u001b[0m \u001b[0;34m\u001b[0m\u001b[0m\n",
      "\u001b[0;31mTypeError\u001b[0m: unsupported operand type(s) for *: 'float' and 'NoneType'"
     ]
    }
   ],
   "source": [
    "for link in speech_links:\n",
    "    url_to_grade(link)"
   ]
  },
  {
   "cell_type": "markdown",
   "metadata": {},
   "source": [
    "I keep getting a 'Cannot divide by zero error' :("
   ]
  },
  {
   "cell_type": "code",
   "execution_count": 112,
   "metadata": {
    "collapsed": false
   },
   "outputs": [
    {
     "name": "stdout",
     "output_type": "stream",
     "text": [
      "http://avalon.law.yale.edu//19th_century/monroe1.asp\n",
      "http://avalon.law.yale.edu//19th_century/monroe2.asp\n",
      "http://avalon.law.yale.edu//19th_century/lincoln1.asp\n",
      "http://avalon.law.yale.edu//19th_century/lincoln2.asp\n"
     ]
    }
   ],
   "source": [
    "for link in speech_links:\n",
    "    if len(combo(link)) == 0:\n",
    "        print(link)"
   ]
  },
  {
   "cell_type": "code",
   "execution_count": null,
   "metadata": {
    "collapsed": true
   },
   "outputs": [],
   "source": []
  }
 ],
 "metadata": {
  "anaconda-cloud": {},
  "kernelspec": {
   "display_name": "Python [Root]",
   "language": "python",
   "name": "Python [Root]"
  },
  "language_info": {
   "codemirror_mode": {
    "name": "ipython",
    "version": 3
   },
   "file_extension": ".py",
   "mimetype": "text/x-python",
   "name": "python",
   "nbconvert_exporter": "python",
   "pygments_lexer": "ipython3",
   "version": "3.5.2"
  }
 },
 "nbformat": 4,
 "nbformat_minor": 0
}
